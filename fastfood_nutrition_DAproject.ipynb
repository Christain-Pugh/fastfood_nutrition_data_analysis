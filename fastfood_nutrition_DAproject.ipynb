{
 "cells": [
  {
   "cell_type": "markdown",
   "id": "cd5c94de-ec65-4b63-bd75-6d005a8dbd40",
   "metadata": {},
   "source": [
    "**Import necessary libraries**\n",
    "- sqlalchemy/create_engine in order to write our sql queries\n",
    "- pandas for data manipulation\n",
    "- FileLink to output results into excel workbooks\n",
    "- re in order to utilize regex, which is needed to replace a few unwanted characters in the data\n",
    "- openpyxl for modifying excel data"
   ]
  },
  {
   "cell_type": "code",
   "execution_count": 1,
   "id": "882d9908-f2b6-4af6-868d-47ceb7948130",
   "metadata": {},
   "outputs": [],
   "source": [
    "from sqlalchemy import create_engine, text\n",
    "import pandas as pd\n",
    "from IPython.display import FileLink\n",
    "import re\n",
    "import openpyxl"
   ]
  },
  {
   "cell_type": "markdown",
   "id": "659b7937-18fe-49a3-b873-57eb0712e0c6",
   "metadata": {},
   "source": [
    "__Prepare the data for analysis__\n",
    "\n",
    " Before we start diving into the data we need to load it from the csv file and take a few quick steps to clean it up.\n",
    "\n",
    "- Remove unwanted characters from the original csv that get in the way of insuring the columns fit into the necessary data types\n",
    "- Use sqlalchemy create_engine to create a sqlite database to load our data into\n",
    "- Convert the data (df) to sql\n",
    "- Run a quick test to insure sql queries are working properly (This particular index had values that were causing issues in it)"
   ]
  },
  {
   "cell_type": "code",
   "execution_count": 2,
   "id": "99beec3a-3dde-4126-a7e6-ca24205a68b6",
   "metadata": {},
   "outputs": [
    {
     "data": {
      "text/plain": [
       "('Burger King', '29 fl oz', 410.0, 0.0, 0.0, '0', 0.0, '0', '135', '111', '0', '109', 0.0, 519.0)"
      ]
     },
     "execution_count": 2,
     "metadata": {},
     "output_type": "execute_result"
    }
   ],
   "source": [
    "df = pd.read_csv(\"C:/Users/bkpug/Downloads/FastFoodNutritionMenuV3.csv\")\n",
    "df.columns = df.columns.str.strip().str.replace(r'\\n|\\(.*?\\)', '', regex=True).str.replace(' ', '_')\n",
    "engine = create_engine('sqlite:///:memory:')\n",
    "df.to_sql('data', con=engine, index=False, if_exists='replace')\n",
    "\n",
    "with engine.begin() as conn:\n",
    "    result = conn.execute(text(\"SELECT * FROM data\")).fetchall()\n",
    "\n",
    "result[475]"
   ]
  },
  {
   "cell_type": "markdown",
   "id": "7ab2686b-ead1-4a6c-96af-19fb4a115b93",
   "metadata": {},
   "source": [
    "__Write a quick query to check the data types for the sql db__"
   ]
  },
  {
   "cell_type": "code",
   "execution_count": 3,
   "id": "967ab1e7-5197-4d9b-b5b9-225c21a670ab",
   "metadata": {},
   "outputs": [
    {
     "name": "stdout",
     "output_type": "stream",
     "text": [
      "(0, 'Company', 'TEXT', 0, None, 0)\n",
      "(1, 'Item', 'TEXT', 0, None, 0)\n",
      "(2, 'Calories', 'FLOAT', 0, None, 0)\n",
      "(3, 'Calories_fromFat', 'FLOAT', 0, None, 0)\n",
      "(4, 'Total_Fat', 'FLOAT', 0, None, 0)\n",
      "(5, 'Saturated_Fat', 'TEXT', 0, None, 0)\n",
      "(6, 'Trans_Fat', 'FLOAT', 0, None, 0)\n",
      "(7, 'Cholesterol', 'TEXT', 0, None, 0)\n",
      "(8, 'Sodium_', 'TEXT', 0, None, 0)\n",
      "(9, 'Carbs', 'TEXT', 0, None, 0)\n",
      "(10, 'Fiber', 'TEXT', 0, None, 0)\n",
      "(11, 'Sugars', 'TEXT', 0, None, 0)\n",
      "(12, 'Protein', 'FLOAT', 0, None, 0)\n",
      "(13, 'Weight_WatchersPnts', 'FLOAT', 0, None, 0)\n"
     ]
    }
   ],
   "source": [
    "with engine.begin() as conn:\n",
    "    result = conn.execute(text(\"PRAGMA table_info(data)\")).fetchall()\n",
    "    for row in result:\n",
    "        print(row)"
   ]
  },
  {
   "cell_type": "markdown",
   "id": "e0c42f01-3f24-451b-9f1c-1e32a9b73790",
   "metadata": {},
   "source": [
    "__After checking the data types I noticed the 'Sugars' column wasn't any form of numerical data, which I need it to be for a certain query.__\n",
    "\n",
    "The below code should not only fix that but also replace any instance of '<1' in the data"
   ]
  },
  {
   "cell_type": "code",
   "execution_count": 4,
   "id": "b36b7077-b47c-4e67-bf27-230570dcc92c",
   "metadata": {},
   "outputs": [
    {
     "data": {
      "text/plain": [
       "Sugars\n",
       "0.0      205\n",
       "2.0       96\n",
       "1.0       61\n",
       "3.0       56\n",
       "4.0       42\n",
       "        ... \n",
       "118.0      1\n",
       "85.0       1\n",
       "99.0       1\n",
       "138.0      1\n",
       "112.0      1\n",
       "Name: count, Length: 120, dtype: int64"
      ]
     },
     "execution_count": 4,
     "metadata": {},
     "output_type": "execute_result"
    }
   ],
   "source": [
    "df['Sugars'].replace('<1', '0', inplace=True)\n",
    "\n",
    "df['Sugars'] = df['Sugars'].astype(float)\n",
    "\n",
    "df['Sugars'].value_counts()"
   ]
  },
  {
   "cell_type": "code",
   "execution_count": 5,
   "id": "4a3cc402-4281-4783-8273-b984af75609b",
   "metadata": {},
   "outputs": [
    {
     "data": {
      "text/plain": [
       "1134"
      ]
     },
     "execution_count": 5,
     "metadata": {},
     "output_type": "execute_result"
    }
   ],
   "source": [
    "df.to_sql('data', con=engine, index=False, if_exists='replace')"
   ]
  },
  {
   "cell_type": "markdown",
   "id": "e17c8750-5fcb-4888-bfc9-6c183bee1d48",
   "metadata": {},
   "source": [
    "__Now we begin our analysis__\n",
    "\n",
    "___The goal of this project is to identify the best options for a few specific diets in the fast food industry___\n",
    "\n",
    "There are 6 restaurants available in this dataset.\n",
    "- McDonalds\n",
    "- Burger King\n",
    "- Wendys\n",
    "- KFC\n",
    "- Taco Bell\n",
    "- Pizza Hut\n",
    "\n",
    "For each of these restaurants I would like to find the best possible food options for protein focused, calorie counting focused, Low sugar, \n",
    "and red meat free diets. For each diet I would like there to be multiple options accounting for the dietary focus. \n",
    "On the first two I woule like to assign a minimum of 10g of protein, and a maximum of 300 calories.\n",
    "This assures that any 2 items bought from this list will maintain a caloric intake of 600 or less while provided plenty of protein as well.\n",
    "The second two queries will be more directly focused on their own dietary restrictions and less on calories vs protein.\n",
    "\n",
    "__After each set of queries I will be adding each of the results into an excel worksheet which will be downloadable simply by clicking on it.__\n"
   ]
  },
  {
   "cell_type": "code",
   "execution_count": 6,
   "id": "9faf9ef0-1686-4eae-9f07-84e9364d77f9",
   "metadata": {},
   "outputs": [
    {
     "data": {
      "text/plain": [
       "[('McDonald’s', 'Premium Bacon Ranch Salad with Grilled Chicken', 260.0, 33.0),\n",
       " ('McDonald’s', 'Premium Caesar Salad with Grilled Chicken', 220.0, 30.0),\n",
       " ('McDonald’s', 'Ranch Snack Wrap® (Grilled)', 270.0, 18.0),\n",
       " ('McDonald’s', 'Honey Mustard Snack Wrap® (Grilled)', 260.0, 18.0),\n",
       " ('McDonald’s', 'Chipotle BBQ Snack Wrap® (Grilled)', 260.0, 18.0),\n",
       " ('McDonald’s', 'Egg McMuffin®', 300.0, 18.0),\n",
       " ('McDonald’s', 'Cheeseburger', 300.0, 15.0),\n",
       " ('McDonald’s', 'Chicken McNuggets® (6 piece)', 280.0, 13.0),\n",
       " ('McDonald’s', 'Hamburger', 250.0, 12.0),\n",
       " ('McDonald’s', 'Sausage Burrito', 300.0, 12.0)]"
      ]
     },
     "execution_count": 6,
     "metadata": {},
     "output_type": "execute_result"
    }
   ],
   "source": [
    "with engine.begin() as conn:\n",
    "    mcdonalds_by_protein = conn.execute(text(\"SELECT Company, Item, Calories, Protein FROM data WHERE Company = 'McDonald’s' AND Calories <= 300 AND Protein >= 10 ORDER BY Protein DESC LIMIT 10\")).fetchall()\n",
    "\n",
    "mcdonalds_by_protein"
   ]
  },
  {
   "cell_type": "code",
   "execution_count": 7,
   "id": "4a473e99-646b-46f3-91b1-a2c5de0b89ec",
   "metadata": {},
   "outputs": [
    {
     "data": {
      "text/plain": [
       "[('McDonald’s', 'Cheeseburger', 300.0, 15.0),\n",
       " ('McDonald’s', 'Egg McMuffin®', 300.0, 18.0),\n",
       " ('McDonald’s', 'Sausage Burrito', 300.0, 12.0),\n",
       " ('McDonald’s', 'Iced Nonfat Caramel Mocha (Large)', 300.0, 11.0),\n",
       " ('McDonald’s', 'Chicken McNuggets® (6 piece)', 280.0, 13.0),\n",
       " ('McDonald’s', 'Nonfat Caramel Mocha (Large)', 280.0, 12.0),\n",
       " ('McDonald’s', 'Ranch Snack Wrap® (Grilled)', 270.0, 18.0),\n",
       " ('McDonald’s', 'Honey Mustard Snack Wrap® (Grilled)', 260.0, 18.0),\n",
       " ('McDonald’s', 'Chipotle BBQ Snack Wrap® (Grilled)', 260.0, 18.0),\n",
       " ('McDonald’s', 'Premium Bacon Ranch Salad with Grilled Chicken', 260.0, 33.0)]"
      ]
     },
     "execution_count": 7,
     "metadata": {},
     "output_type": "execute_result"
    }
   ],
   "source": [
    "with engine.begin() as conn:\n",
    "    mcdonalds_by_calories = conn.execute(text(\"SELECT Company, Item, Calories, Protein FROM data WHERE Company = 'McDonald’s' AND Calories <= 300 AND Protein >= 10 ORDER BY Calories DESC LIMIT 10\")).fetchall()\n",
    "\n",
    "mcdonalds_by_calories"
   ]
  },
  {
   "cell_type": "markdown",
   "id": "b4317e98-a73a-4ed8-8bb3-6966a31c4c5f",
   "metadata": {},
   "source": [
    "__Side note:__\n",
    "The results for the low sugar query output a large list that is a bit disruptive, so while this code cell looks different than others it is for simplification."
   ]
  },
  {
   "cell_type": "code",
   "execution_count": 59,
   "id": "755b8bed-4819-4b34-a18d-6f2621693687",
   "metadata": {},
   "outputs": [
    {
     "data": {
      "text/html": [
       "<div style='height:200px; overflow:auto; border:1px solid #ccc; padding:10px;'>('McDonald’s', 'Small French Fries', 230.0, 0.0)<br>('McDonald’s', 'Salt Packet', 0.0, 0.0)<br>('McDonald’s', 'Chicken McNuggets® (4 piece)', 190.0, 0.0)<br>('McDonald’s', 'Chicken McNuggets® (6 piece)', 280.0, 0.0)<br>('McDonald’s', 'Spicy Buffalo Sauce', 60.0, 0.0)<br>('McDonald’s', 'Butter Garlic Croutons', 60.0, 0.0)<br>('McDonald’s', 'Whipped Margarine (1 pat)', 40.0, 0.0)<br>('McDonald’s', 'Hash Brown', 150.0, 0.0)<br>('McDonald’s', 'Peanuts (for Sundaes)', 45.0, 0.0)<br>('McDonald’s', 'Dasani® Water', 0.0, 0.0)<br>('McDonald’s', 'Diet Coke® (Child)', 0.0, 0.0)<br>('McDonald’s', 'Diet Coke® (Small)', 0.0, 0.0)<br>('McDonald’s', 'Diet Coke® (Medium)', 0.0, 0.0)<br>('McDonald’s', 'Diet Coke® (Large)', 0.0, 0.0)<br>('McDonald’s', 'Iced Tea (Child)', 0.0, 0.0)<br>('McDonald’s', 'Iced Tea (Small)', 0.0, 0.0)<br>('McDonald’s', 'Iced Tea (Medium)', 0.0, 0.0)<br>('McDonald’s', 'Iced Tea (Large)', 0.0, 0.0)<br>('McDonald’s', 'Coffee (Small)', 0.0, 0.0)<br>('McDonald’s', 'Coffee (Large)', 0.0, 0.0)<br>('McDonald’s', 'Coffee Cream', 20.0, 0.0)<br>('McDonald’s', 'Creamy Ranch Sauce', 170.0, 1.0)<br>('McDonald’s', 'Newman’s Own® Low Fat Family Recipe Italian Dressing', 60.0, 1.0)<br>('McDonald’s', 'EQUAL® 0\\nCalorie Sweetener', 0.0, 1.0)<br>('McDonald’s', 'SPLENDA® No\\nCalorie Sweetener', 0.0, 1.0)<br>('McDonald’s', 'Iced Coffee with Sugar Free Vanilla Syrup (Small)', 60.0, 1.0)<br>('McDonald’s', 'Ranch Snack Wrap® (Grilled)', 270.0, 2.0)<br>('McDonald’s', 'Ketchup Packet', 15.0, 2.0)<br>('McDonald’s', 'Side Salad', 20.0, 2.0)<br>('McDonald’s', 'Newman’s Own® Creamy Caesar Dressing', 190.0, 2.0)<br>('McDonald’s', 'English Muffin', 160.0, 2.0)<br>('McDonald’s', 'Sausage Burrito', 300.0, 2.0)<br>('McDonald’s', 'Iced Coffee with Sugar Free Vanilla Syrup (Medium)', 90.0, 2.0)<br>('McDonald’s', 'Iced Coffee with Sugar Free Vanilla Syrup (Large)', 120.0, 2.0)<br>('McDonald’s', 'Newman’s Own® Creamy Southwest Dressing', 100.0, 3.0)<br>('McDonald’s', 'Newman’s Own® Low Fat Balsamic Vinaigrette', 40.0, 3.0)<br>('McDonald’s', 'Egg McMuffin®', 300.0, 3.0)<br>('McDonald’s', 'Honey Mustard Snack Wrap® (Grilled)', 260.0, 4.0)<br>('McDonald’s', 'Premium Bacon Ranch Salad (without chicken)', 140.0, 4.0)<br>('McDonald’s', 'Premium Caesar Salad (without chicken)', 90.0, 4.0)<br>('McDonald’s', 'Newman’s Own® Ranch Dressing', 170.0, 4.0)<br>('McDonald’s', 'Sugar Packet', 15.0, 4.0)<br>('McDonald’s', 'Iced Latte with Sugar Free Vanilla Syrup (Small)', 60.0, 4.0)<br>('McDonald’s', 'Chipotle BBQ Snack Wrap® (Grilled)', 260.0, 5.0)<br>('McDonald’s', 'Premium Bacon Ranch Salad with Grilled Chicken', 260.0, 5.0)<br>('McDonald’s', 'Premium Caesar Salad with Grilled Chicken', 220.0, 5.0)<br>('McDonald’s', 'Iced Nonfat Latte with Sugar Free Vanilla Syrup (Small)', 40.0, 5.0)<br>('McDonald’s', 'Hamburger', 250.0, 6.0)<br>('McDonald’s', 'Cheeseburger', 300.0, 6.0)<br>('McDonald’s', 'Hot Mustard Sauce', 60.0, 6.0)<br>('McDonald’s', 'Premium Southwest Salad (without chicken)', 140.0, 6.0)<br>('McDonald’s', 'Kiddie Cone', 45.0, 6.0)<br>('McDonald’s', 'Iced Nonfat Latte with Sugar Free Vanilla Syrup (Medium)', 50.0, 6.0)<br>('McDonald’s', 'Iced Latte (Small)', 80.0, 6.0)<br>('McDonald’s', 'Iced Latte with Sugar Free Vanilla Syrup (Medium)', 90.0, 6.0)<br>('McDonald’s', 'Iced Nonfat Latte (Small)', 50.0, 7.0)<br>('McDonald’s', 'Cappuccino with Sugar Free Vanilla Syrup (Small)', 100.0, 7.0)<br>('McDonald’s', 'Tangy Honey Mustard Sauce', 60.0, 8.0)<br>('McDonald’s', 'Nonfat Cappuccino with Sugar Free Vanilla Syrup (Small)', 50.0, 8.0)<br>('McDonald’s', 'Iced Nonfat Latte with Sugar Free Vanilla Syrup (Large)', 60.0, 8.0)<br>('McDonald’s', 'Iced Latte (Medium)', 100.0, 8.0)<br>('McDonald’s', 'Iced Latte with Sugar Free Vanilla Syrup (Large)', 110.0, 8.0)<br>('McDonald’s', 'Grape Jam', 35.0, 9.0)<br>('McDonald’s', 'Strawberry Preserves', 35.0, 9.0)<br>('McDonald’s', 'Low Fat Caramel Dip', 70.0, 9.0)<br>('McDonald’s', 'Nonfat Cappuccino (Small)', 60.0, 9.0)<br>('McDonald’s', 'Iced Nonfat Latte (Medium)', 60.0, 9.0)<br>('McDonald’s', 'Cappuccino (Small)', 120.0, 9.0)<br>('McDonald’s', 'Cappuccino with Sugar Free Vanilla Syrup (Medium)', 120.0, 9.0)<br>('McDonald’s', 'Barbeque Sauce', 50.0, 10.0)<br>('McDonald’s', 'Sweet ‘N Sour Sauce', 50.0, 10.0)<br>('McDonald’s', 'Nonfat Cappuccino with Sugar Free Vanilla Syrup (Medium)', 70.0, 10.0)<br>('McDonald’s', 'Latte with Sugar Free Vanilla Syrup (Small)', 130.0, 10.0)<br>('McDonald’s', 'Iced Latte (Large)', 140.0, 10.0)<br></div>"
      ],
      "text/plain": [
       "<IPython.core.display.HTML object>"
      ]
     },
     "metadata": {},
     "output_type": "display_data"
    }
   ],
   "source": [
    "with engine.begin() as conn:\n",
    "    mcdonalds_low_sugar = conn.execute(text(\"SELECT Company, Item, Calories, Sugars FROM data WHERE Company = 'McDonald’s' AND Sugars <= 10 AND Calories <= 300 ORDER BY Sugars ASC\")).fetchall()\n",
    "\n",
    "from IPython.display import display, HTML\n",
    "\n",
    "html = \"<div style='height:200px; overflow:auto; border:1px solid #ccc; padding:10px;'>\"\n",
    "for row in mcdonalds_low_sugar:\n",
    "    html += f\"{row}<br>\"\n",
    "html += \"</div>\"\n",
    "\n",
    "display(HTML(html))"
   ]
  },
  {
   "cell_type": "code",
   "execution_count": 9,
   "id": "1c185cdc-b61a-474b-9c2d-70b6cd9ec2c0",
   "metadata": {
    "scrolled": true
   },
   "outputs": [
    {
     "data": {
      "text/plain": [
       "[('McDonald’s', 'Chicken McNuggets® (4 piece)', 190.0, 9.0),\n",
       " ('McDonald’s', 'Premium Caesar Salad with Grilled Chicken', 220.0, 30.0),\n",
       " ('McDonald’s', 'Chicken McNuggets® (6 piece)', 280.0, 13.0),\n",
       " ('McDonald’s', 'Premium Southwest Salad with Grilled Chicken', 320.0, 30.0),\n",
       " ('McDonald’s', 'Premium Caesar Salad with Crispy Chicken', 330.0, 26.0),\n",
       " ('McDonald’s', 'McChicken ®', 360.0, 14.0),\n",
       " ('McDonald’s', 'Premium Grilled Chicken Classic Sandwich', 360.0, 27.0),\n",
       " ('McDonald’s', '4 Piece Chicken McNuggets Happy Meal', 395.0, 19.0),\n",
       " ('McDonald’s', 'Southern Style Crispy Chicken Sandwich', 400.0, 24.0),\n",
       " ('McDonald’s', 'Chicken Selects® Premium Breast Strips (3 pc)', 400.0, 23.0),\n",
       " ('McDonald’s', 'Southern Style Chicken Biscuit (Regular Size Biscuit)', 410.0, 17.0),\n",
       " ('McDonald’s', 'Premium Southwest Salad with Crispy Chicken', 430.0, 26.0),\n",
       " ('McDonald’s', 'Premium Grilled Chicken Club Sandwich', 460.0, 35.0),\n",
       " ('McDonald’s', 'Chicken McNuggets® (10 piece)', 470.0, 22.0),\n",
       " ('McDonald’s', 'Southern Style Chicken Biscuit (Large Size Biscuit)', 470.0, 17.0),\n",
       " ('McDonald’s', '6 Piece Chicken McNuggets® Happy Meal', 475.0, 24.0),\n",
       " ('McDonald’s', 'Premium Crispy Chicken Classic Sandwich', 510.0, 24.0)]"
      ]
     },
     "execution_count": 9,
     "metadata": {},
     "output_type": "execute_result"
    }
   ],
   "source": [
    "with engine.begin() as conn:\n",
    "    mcdonalds_no_red = conn.execute(text(\"SELECT Company, Item, Calories, Protein FROM data WHERE Company = 'McDonald’s' AND Calories <= 600 AND Item LIKE '%Chicken%' AND Item NOT LIKE '%without chicken%' AND Item NOT LIKE '%Bacon%' AND Item NOT LIKE '%BLT%' ORDER BY Calories ASC\")).fetchall()\n",
    "\n",
    "mcdonalds_no_red"
   ]
  },
  {
   "cell_type": "code",
   "execution_count": 10,
   "id": "46196f45-3932-4013-b329-5dcda3431205",
   "metadata": {},
   "outputs": [
    {
     "data": {
      "text/html": [
       "<a href='mcdonalds_nutrition.xlsx' target='_blank'>mcdonalds_nutrition.xlsx</a><br>"
      ],
      "text/plain": [
       "C:\\Users\\bkpug\\PycharmProjects\\AutoIT2\\mcdonalds_nutrition.xlsx"
      ]
     },
     "execution_count": 10,
     "metadata": {},
     "output_type": "execute_result"
    }
   ],
   "source": [
    "# This will be for making the excel sheet for all of mcdonalds options\n",
    "\n",
    "with engine.begin() as conn:\n",
    "    mcdonalds_by_protein1 = pd.read_sql(text(\"SELECT Company, Item, Calories, Protein FROM data WHERE Company = 'McDonald’s' AND Calories <= 300 AND Protein >= 10 ORDER BY Protein DESC LIMIT 10\"), conn)\n",
    "    mcdonalds_by_calories1 = pd.read_sql(text(\"SELECT Company, Item, Calories, Protein FROM data WHERE Company = 'McDonald’s' AND Calories <= 300 AND Protein >= 10 ORDER BY Calories DESC LIMIT 10\"), conn)\n",
    "    mcdonalds_low_sugar1 = pd.read_sql(text(\"SELECT Company, Item, Calories, Sugars FROM data WHERE Company = 'McDonald’s' AND Sugars <= 10 AND Calories <= 300 ORDER BY Sugars ASC\"), conn)\n",
    "    mcdonalds_no_red1 = pd.read_sql(text(\"SELECT Company, Item, Calories, Protein FROM data WHERE Company = 'McDonald’s' AND Calories <= 600 AND Item LIKE '%Chicken%' AND Item NOT LIKE '%without chicken%' AND Item NOT LIKE '%Bacon%' AND Item NOT LIKE '%BLT%' ORDER BY Calories ASC\"), conn)\n",
    "\n",
    "with pd.ExcelWriter(\"mcdonalds_nutrition.xlsx\") as writer:\n",
    "    mcdonalds_by_protein1.to_excel(writer, sheet_name=\"Protein Focused Diet\", index=False)\n",
    "    mcdonalds_by_calories1.to_excel(writer, sheet_name=\"Calorie Focused Diet\", index=False)\n",
    "    mcdonalds_low_sugar1.to_excel(writer, sheet_name=\"Low Sugar Diet\", index=False)\n",
    "    mcdonalds_no_red1.to_excel(writer, sheet_name=\"No Red Meat\", index=False)\n",
    "\n",
    "FileLink(\"mcdonalds_nutrition.xlsx\")"
   ]
  },
  {
   "cell_type": "code",
   "execution_count": 11,
   "id": "c74c3bf6-ebd3-42ff-a40d-2febe2cf8200",
   "metadata": {},
   "outputs": [
    {
     "data": {
      "text/plain": [
       "[('Burger King', 'Cheeseburger', 280.0, 15.0),\n",
       " ('Burger King', 'Cheeseburger', 280.0, 15.0),\n",
       " ('Burger King', 'Hamburger', 240.0, 13.0),\n",
       " ('Burger King', 'Chicken Fries – 9 pc.', 280.0, 13.0),\n",
       " ('Burger King', 'Hamburger', 240.0, 13.0),\n",
       " ('Burger King', 'Chicken Nuggets- 6pc', 260.0, 12.0),\n",
       " ('Burger King', 'Chicken Nuggets- 6pc', 260.0, 12.0),\n",
       " ('Burger King', 'PB&J Jamwich', 300.0, 11.0)]"
      ]
     },
     "execution_count": 11,
     "metadata": {},
     "output_type": "execute_result"
    }
   ],
   "source": [
    "with engine.begin() as conn:\n",
    "    bk_by_protein = conn.execute(text(\"SELECT Company, Item, Calories, Protein FROM data WHERE Company = 'Burger King' AND Calories <= 300 AND Protein >= 10 ORDER BY Protein DESC LIMIT 10\")).fetchall()\n",
    "\n",
    "bk_by_protein"
   ]
  },
  {
   "cell_type": "code",
   "execution_count": 12,
   "id": "bdb97752-6a39-4e61-bb3b-35aa424050d4",
   "metadata": {},
   "outputs": [
    {
     "data": {
      "text/plain": [
       "[('Burger King', 'PB&J Jamwich', 300.0, 11.0),\n",
       " ('Burger King', 'Cheeseburger', 280.0, 15.0),\n",
       " ('Burger King', 'Chicken Fries – 9 pc.', 280.0, 13.0),\n",
       " ('Burger King', 'Cheeseburger', 280.0, 15.0),\n",
       " ('Burger King', 'Chicken Nuggets- 6pc', 260.0, 12.0),\n",
       " ('Burger King', 'Chicken Nuggets- 6pc', 260.0, 12.0),\n",
       " ('Burger King', 'Hamburger', 240.0, 13.0),\n",
       " ('Burger King', 'Hamburger', 240.0, 13.0)]"
      ]
     },
     "execution_count": 12,
     "metadata": {},
     "output_type": "execute_result"
    }
   ],
   "source": [
    "with engine.begin() as conn:\n",
    "    bk_by_calories = conn.execute(text(\"SELECT Company, Item, Calories, Protein FROM data WHERE Company = 'Burger King' AND Calories <= 300 AND Protein >= 10 ORDER BY Calories DESC LIMIT 10\")).fetchall()\n",
    "\n",
    "bk_by_calories"
   ]
  },
  {
   "cell_type": "code",
   "execution_count": 58,
   "id": "37ab1d5e-1738-43da-be16-55eccba475a8",
   "metadata": {},
   "outputs": [
    {
     "data": {
      "text/html": [
       "<div style='height:200px; overflow:auto; border:1px solid #ccc; padding:10px;'>('Burger King', 'Chicken Nuggets- 4pc', 170.0, 0.0)<br>('Burger King', 'Chicken Nuggets- 6pc', 260.0, 0.0)<br>('Burger King', 'Spicy Chicken Nuggets- 4pc', 210.0, 0.0)<br>('Burger King', 'Chicken Nuggets- 4pc', 170.0, 0.0)<br>('Burger King', 'Chicken Nuggets- 6pc', 260.0, 0.0)<br>('Burger King', 'Hash Browns – small', 250.0, 0.0)<br>('Burger King', 'American Cheese (slice)', 40.0, 0.0)<br>('Burger King', 'Mayonnaise (Packet)', 80.0, 0.0)<br>('Burger King', 'Zesty Onion Ring Dipping Sauce (1 oz)', 150.0, 0.0)<br>('Burger King', '16 fl oz', 0.0, 0.0)<br>('Burger King', '20 fl oz', 0.0, 0.0)<br>('Burger King', '29 fl oz', 0.0, 0.0)<br>('Burger King', '38 fl oz', 0.0, 0.0)<br>('Burger King', '16 fl oz', 10.0, 0.0)<br>('Burger King', '20 fl oz', 10.0, 0.0)<br>('Burger King', '29 fl oz', 15.0, 0.0)<br>('Burger King', '38 fl oz', 20.0, 0.0)<br>('Burger King', '20 fl oz', 0.0, 0.0)<br>('Burger King', '29 fl oz', 0.0, 0.0)<br>('Burger King', '40 fl oz', 0.0, 0.0)<br>('Burger King', 'BK® Café Coffee- 12 fl oz', 0.0, 0.0)<br>('Burger King', 'BK® Café Coffee- 16 fl oz', 0.0, 0.0)<br>('Burger King', 'BK® Café Coffee- 20 fl oz', 0.0, 0.0)<br>('Burger King', 'BK® Café Decaf Coffee- 12 fl oz', 0.0, 0.0)<br>('Burger King', 'BK® Café Decaf Coffee- 16 fl oz', 0.0, 0.0)<br>('Burger King', 'BK® Café Decaf Coffee- 20 fl oz', 0.0, 0.0)<br>('Burger King', 'Chicken Fries – 9 pc.', 280.0, 1.0)<br>('Burger King', 'Crispy Taco', 170.0, 1.0)<br>('Burger King', 'Buttery Garlic Croutons- Packet', 60.0, 1.0)<br>('Burger King', 'French Fries – value (unsalted)', 220.0, 1.0)<br>('Burger King', 'Ranch Dipping Sauce (1 oz)', 140.0, 1.0)<br>('Burger King', 'Buffalo Dipping Sauce (1 oz)', 80.0, 1.0)<br>('Burger King', 'Garden Side Salad – w/o dressing', 60.0, 2.0)<br>('Burger King', 'Ken’s Ranch Dressing', 260.0, 2.0)<br>('Burger King', 'Onion Rings – value', 150.0, 2.0)<br>('Burger King', 'Ketchup (Packet)', 10.0, 2.0)<br>('Burger King', 'Ken’s Golden Italian Dressing', 160.0, 3.0)<br>('Burger King', 'Hamburger', 240.0, 6.0)<br>('Burger King', 'Hamburger', 240.0, 6.0)<br>('Burger King', 'Strawberry or Grape Jam (packet)', 30.0, 6.0)<br>('Burger King', 'Cheeseburger', 280.0, 7.0)<br>('Burger King', 'Cheeseburger', 280.0, 7.0)<br>('Burger King', 'Honey Mustard Dipping Sauce (1oz)', 90.0, 7.0)<br>('Burger King', 'French Toast Sticks (3 piece)', 230.0, 8.0)<br>('Burger King', 'Barbecue Dipping Sauce (1 oz)', 40.0, 10.0)<br></div>"
      ],
      "text/plain": [
       "<IPython.core.display.HTML object>"
      ]
     },
     "metadata": {},
     "output_type": "display_data"
    }
   ],
   "source": [
    "with engine.begin() as conn:\n",
    "    bk_low_sugar = conn.execute(text(\"SELECT Company, Item, Calories, Sugars FROM data WHERE Company = 'Burger King' AND Sugars <= 10 AND Calories <= 300 ORDER BY Sugars ASC\")).fetchall()\n",
    "\n",
    "html = \"<div style='height:200px; overflow:auto; border:1px solid #ccc; padding:10px;'>\"\n",
    "for row in bk_low_sugar:\n",
    "    html += f\"{row}<br>\"\n",
    "html += \"</div>\"\n",
    "\n",
    "display(HTML(html))"
   ]
  },
  {
   "cell_type": "code",
   "execution_count": 14,
   "id": "ec4017ce-697a-497a-aa47-2626d03c17ea",
   "metadata": {},
   "outputs": [
    {
     "data": {
      "text/plain": [
       "[('Burger King', 'Chicken Nuggets- 4pc', 170.0, 8.0),\n",
       " ('Burger King', 'Chicken Nuggets- 4pc', 170.0, 8.0),\n",
       " ('Burger King', 'Spicy Chicken Nuggets- 4pc', 210.0, 8.0),\n",
       " ('Burger King', 'Chicken Nuggets- 6pc', 260.0, 12.0),\n",
       " ('Burger King', 'Chicken Nuggets- 6pc', 260.0, 12.0),\n",
       " ('Burger King', 'Chicken Fries – 9 pc.', 280.0, 13.0),\n",
       " ('Burger King', 'Spicy Chicken Nuggets- 6pc', 320.0, 12.0),\n",
       " ('Burger King', 'Spicy Crispy Chicken Jr.', 390.0, 12.0),\n",
       " ('Burger King', 'Chicken Nuggets- 10pc', 430.0, 20.0),\n",
       " ('Burger King', 'Garden Chicken Salad with Crispy Chicken – no dressing', 440.0, 25.0),\n",
       " ('Burger King', 'Crispy Chicken Jr.', 450.0, 12.0),\n",
       " ('Burger King', 'Spicy Chicken Nuggets- 10 pc', 530.0, 20.0),\n",
       " ('Burger King', 'Club Salad with Crispy Chicken – no dressing', 540.0, 31.0)]"
      ]
     },
     "execution_count": 14,
     "metadata": {},
     "output_type": "execute_result"
    }
   ],
   "source": [
    "with engine.begin() as conn:\n",
    "    bk_no_red = conn.execute(text(\"SELECT Company, Item, Calories, Protein FROM data WHERE Company = 'Burger King' AND Calories <= 600 AND Item LIKE '%Chicken%' AND Item NOT LIKE '%without chicken%' AND Item NOT LIKE '%Bacon%' AND Item NOT LIKE '%BLT%' ORDER BY Calories ASC\")).fetchall()\n",
    "\n",
    "bk_no_red"
   ]
  },
  {
   "cell_type": "code",
   "execution_count": 15,
   "id": "ad5b56b5-ea15-4799-960a-2ced10b7c5fd",
   "metadata": {},
   "outputs": [
    {
     "data": {
      "text/html": [
       "<a href='burger_king_nutrition.xlsx' target='_blank'>burger_king_nutrition.xlsx</a><br>"
      ],
      "text/plain": [
       "C:\\Users\\bkpug\\PycharmProjects\\AutoIT2\\burger_king_nutrition.xlsx"
      ]
     },
     "execution_count": 15,
     "metadata": {},
     "output_type": "execute_result"
    }
   ],
   "source": [
    "with engine.begin() as conn:\n",
    "    bk_by_protein1 = pd.read_sql(text(\"SELECT Company, Item, Calories, Protein FROM data WHERE Company = 'Burger King' AND Calories <= 300 AND Protein >= 10 ORDER BY Protein DESC LIMIT 10\"), conn)\n",
    "    bk_by_calories1 = pd.read_sql(text(\"SELECT Company, Item, Calories, Protein FROM data WHERE Company = 'Burger King' AND Calories <= 300 AND Protein >= 10 ORDER BY Calories DESC LIMIT 10\"), conn)\n",
    "    bk_low_sugar1 = pd.read_sql(text(\"SELECT Company, Item, Calories, Sugars FROM data WHERE Company = 'Burger King' AND Sugars <= 10 AND Calories <= 300 ORDER BY Sugars ASC\"), conn)\n",
    "    bk_no_red1 = pd.read_sql(text(\"SELECT Company, Item, Calories, Protein FROM data WHERE Company = 'Burger King' AND Calories <= 600 AND Item LIKE '%Chicken%' AND Item NOT LIKE '%without chicken%' AND Item NOT LIKE '%Bacon%' AND Item NOT LIKE '%BLT%' ORDER BY Calories ASC\"), conn)\n",
    "\n",
    "with pd.ExcelWriter(\"burger_king_nutrition.xlsx\") as writer:\n",
    "    bk_by_protein1.to_excel(writer, sheet_name=\"Protein Focused Diet\", index=False)\n",
    "    bk_by_calories1.to_excel(writer, sheet_name=\"Calorie Focused Diet\", index=False)\n",
    "    bk_low_sugar1.to_excel(writer, sheet_name=\"Low Sugar Diet\", index=False)\n",
    "    bk_no_red1.to_excel(writer, sheet_name=\"No Red Meat\", index=False)\n",
    "\n",
    "FileLink(\"burger_king_nutrition.xlsx\")"
   ]
  },
  {
   "cell_type": "code",
   "execution_count": 16,
   "id": "59034013-e7ee-4d72-b5ec-a4b0ed0df87d",
   "metadata": {},
   "outputs": [
    {
     "data": {
      "text/plain": [
       "[('Wendy’s', 'Berry Burst Chicken Salad, Half Size', 290.0, 23.0),\n",
       " ('Wendy’s', 'Chili, Large', 250.0, 23.0),\n",
       " ('Wendy’s', 'Southwest Avocado Chicken Salad, Half Size', 300.0, 21.0),\n",
       " ('Wendy’s', 'Grilled Chicken Wrap', 270.0, 20.0),\n",
       " ('Wendy’s', 'Kids Grilled Chicken Wrap', 270.0, 20.0),\n",
       " ('Wendy’s', 'Jr. Cheeseburger', 280.0, 16.0),\n",
       " ('Wendy’s', 'Chili, Small', 170.0, 15.0),\n",
       " ('Wendy’s', 'Kids 2 Piece Chicken Tenders', 200.0, 15.0),\n",
       " ('Wendy’s', 'Kids Cheeseburger', 280.0, 15.0),\n",
       " ('Wendy’s', '6 Picece Chicken Nuggets', 250.0, 13.0)]"
      ]
     },
     "execution_count": 16,
     "metadata": {},
     "output_type": "execute_result"
    }
   ],
   "source": [
    "with engine.begin() as conn:\n",
    "    wendys_by_protein = conn.execute(text(\"SELECT Company, Item, Calories, Protein FROM data WHERE Company = 'Wendy’s' AND Calories <= 300 AND Protein >= 10 ORDER BY Protein DESC LIMIT 10\")).fetchall()\n",
    "\n",
    "wendys_by_protein"
   ]
  },
  {
   "cell_type": "code",
   "execution_count": 17,
   "id": "1175683d-3aee-4c72-8162-43b231c8ec36",
   "metadata": {},
   "outputs": [
    {
     "data": {
      "text/plain": [
       "[('Wendy’s', 'Southwest Avocado Chicken Salad, Half Size', 300.0, 21.0),\n",
       " ('Wendy’s', 'Berry Burst Chicken Salad, Half Size', 290.0, 23.0),\n",
       " ('Wendy’s', 'Jr. Cheeseburger', 280.0, 16.0),\n",
       " ('Wendy’s', 'Kids Cheeseburger', 280.0, 15.0),\n",
       " ('Wendy’s', 'Grilled Chicken Wrap', 270.0, 20.0),\n",
       " ('Wendy’s', 'Kids Grilled Chicken Wrap', 270.0, 20.0),\n",
       " ('Wendy’s', '6 Picece Chicken Nuggets', 250.0, 13.0),\n",
       " ('Wendy’s', 'Chili, Large', 250.0, 23.0),\n",
       " ('Wendy’s', 'Kids Hamburger', 240.0, 13.0),\n",
       " ('Wendy’s', 'Kids 2 Piece Chicken Tenders', 200.0, 15.0)]"
      ]
     },
     "execution_count": 17,
     "metadata": {},
     "output_type": "execute_result"
    }
   ],
   "source": [
    "with engine.begin() as conn:\n",
    "    wendys_by_calories = conn.execute(text(\"SELECT Company, Item, Calories, Protein FROM data WHERE Company = 'Wendy’s' AND Calories <= 300 AND Protein >= 10 ORDER BY Calories DESC LIMIT 10\")).fetchall()\n",
    "\n",
    "wendys_by_calories"
   ]
  },
  {
   "cell_type": "code",
   "execution_count": 57,
   "id": "0a6698f2-3864-4d37-bef7-cc8feec0f7ae",
   "metadata": {},
   "outputs": [
    {
     "data": {
      "text/html": [
       "<div style='height:200px; overflow:auto; border:1px solid #ccc; padding:10px;'>('Wendy’s', '4 Piece Chicken Nuggets', 170.0, 0.0)<br>('Wendy’s', '6 Picece Chicken Nuggets', 250.0, 0.0)<br>('Wendy’s', 'Natural-Cut Fries, Junior', 230.0, 0.0)<br>('Wendy’s', 'Brewed Unsweetened Iced Tea, Large', 5.0, 0.0)<br>('Wendy’s', 'Brewed Unsweetened Iced Tea, Medium', 0.0, 0.0)<br>('Wendy’s', 'Brewed Unsweetened Iced Tea, Small', 0.0, 0.0)<br>('Wendy’s', 'Coca-Cola Zero Sugar, Large', 0.0, 0.0)<br>('Wendy’s', 'Coca-Cola Zero Sugar, Medium', 0.0, 0.0)<br>('Wendy’s', 'Coca-Cola Zero Sugar, Small', 0.0, 0.0)<br>('Wendy’s', 'Diet Coke, Large', 0.0, 0.0)<br>('Wendy’s', 'Diet Coke, Medium', 0.0, 0.0)<br>('Wendy’s', 'Diet Coke, Small', 0.0, 0.0)<br>('Wendy’s', 'Hot Tea', 0.0, 0.0)<br>('Wendy’s', 'Minute Maid Light Lemonade, Large', 15.0, 0.0)<br>('Wendy’s', 'Minute Maid Light Lemonade, Medium', 10.0, 0.0)<br>('Wendy’s', 'Minute Maid Light Lemonade, Small', 5.0, 0.0)<br>('Wendy’s', 'Skinny Vanilla Iced Coffee, Medium', 100.0, 0.0)<br>('Wendy’s', 'Skinny Vanilla Iced Coffee, Small', 70.0, 0.0)<br>('Wendy’s', 'Kids 2 Piece Chicken Tenders', 200.0, 0.0)<br>('Wendy’s', 'Kids 4 Piece Chicken Nuggets', 170.0, 0.0)<br>('Wendy’s', 'Seasoned Home-Style Potatoes, Small', 230.0, 0.0)<br>('Wendy’s', 'Seasoned Home-Style Potatoes, Medium', 250.0, 1.0)<br>('Wendy’s', 'Grilled Chicken Wrap', 270.0, 3.0)<br>('Wendy’s', 'S’Awesome Sauce', 120.0, 3.0)<br>('Wendy’s', 'Plain Baked Potato', 270.0, 3.0)<br>('Wendy’s', 'Summer Berry Burst Fruit Cup', 20.0, 3.0)<br>('Wendy’s', 'Kids Grilled Chicken Wrap', 270.0, 3.0)<br>('Wendy’s', 'Caesar Side Salad', 240.0, 4.0)<br>('Wendy’s', 'Garden Side Salad', 250.0, 4.0)<br>('Wendy’s', 'Southwest Avocado Chicken Salad, Half Size', 300.0, 4.0)<br>('Wendy’s', 'Kids Cheeseburger', 280.0, 5.0)<br>('Wendy’s', 'Kids Hamburger', 240.0, 5.0)<br>('Wendy’s', 'Jr. Cheeseburger', 280.0, 6.0)<br>('Wendy’s', 'Chili, Small', 170.0, 6.0)<br>('Wendy’s', 'Apple Bites', 35.0, 7.0)<br>('Wendy’s', 'Chili, Large', 250.0, 9.0)<br>('Wendy’s', '1% White Milk', 90.0, 10.0)<br>('Wendy’s', 'Strawberry Tea, Small', 45.0, 10.0)<br></div>"
      ],
      "text/plain": [
       "<IPython.core.display.HTML object>"
      ]
     },
     "metadata": {},
     "output_type": "display_data"
    }
   ],
   "source": [
    "with engine.begin() as conn:\n",
    "    wendys_low_sugar = conn.execute(text(\"SELECT Company, Item, Calories, Sugars FROM data WHERE Company = 'Wendy’s' AND Sugars <= 10 AND Calories <= 300 ORDER BY Sugars ASC\")).fetchall()\n",
    "\n",
    "html = \"<div style='height:200px; overflow:auto; border:1px solid #ccc; padding:10px;'>\"\n",
    "for row in wendys_low_sugar:\n",
    "    html += f\"{row}<br>\"\n",
    "html += \"</div>\"\n",
    "\n",
    "display(HTML(html))"
   ]
  },
  {
   "cell_type": "code",
   "execution_count": 60,
   "id": "dc273f90-7550-4f4d-a9fb-751277009ea7",
   "metadata": {},
   "outputs": [
    {
     "data": {
      "text/html": [
       "<div style='height:200px; overflow:auto; border:1px solid #ccc; padding:10px;'>('Wendy’s', '4 Piece Chicken Nuggets', 170.0, 9.0)<br>('Wendy’s', 'Kids 4 Piece Chicken Nuggets', 170.0, 9.0)<br>('Wendy’s', 'Kids 2 Piece Chicken Tenders', 200.0, 15.0)<br>('Wendy’s', '6 Picece Chicken Nuggets', 250.0, 13.0)<br>('Wendy’s', 'Grilled Chicken Wrap', 270.0, 20.0)<br>('Wendy’s', 'Kids Grilled Chicken Wrap', 270.0, 20.0)<br>('Wendy’s', 'Berry Burst Chicken Salad, Half Size', 290.0, 23.0)<br>('Wendy’s', 'Southwest Avocado Chicken Salad, Half Size', 300.0, 21.0)<br>('Wendy’s', '3 Piece Chicken Tenders', 330.0, 24.0)<br>('Wendy’s', 'Crispy Chicken Sandwich', 330.0, 14.0)<br>('Wendy’s', 'Apple Pecan Chicken Salad, Half Size', 340.0, 20.0)<br>('Wendy’s', 'Grilled Chicken Sandwich', 370.0, 34.0)<br>('Wendy’s', 'Spicy Chicken Wrap', 370.0, 18.0)<br>('Wendy’s', 'Spicy Caesar Chicken Salad, Half Size', 410.0, 23.0)<br>('Wendy’s', '10 Piece Chicken Nuggets', 420.0, 22.0)<br>('Wendy’s', '4 Piece Chicken Tenders', 430.0, 32.0)<br>('Wendy’s', 'Berry Burst Chicken Salad, Full Size', 460.0, 41.0)<br>('Wendy’s', 'Honey Butter Chicken Biscuit', 500.0, 19.0)<br>('Wendy’s', 'Homestyle Chicken Sandwich', 510.0, 28.0)<br>('Wendy’s', 'Spicy Chicken Sandwich', 510.0, 29.0)<br>('Wendy’s', 'Apple Pecan Chicken Salad, Full Size', 560.0, 38.0)<br>('Wendy’s', 'Southwest Avocado Chicken Salad, Full Size', 600.0, 42.0)<br></div>"
      ],
      "text/plain": [
       "<IPython.core.display.HTML object>"
      ]
     },
     "metadata": {},
     "output_type": "display_data"
    }
   ],
   "source": [
    "with engine.begin() as conn:\n",
    "    wendys_no_red = conn.execute(text(\"SELECT Company, Item, Calories, Protein FROM data WHERE Company = 'Wendy’s' AND Calories <= 600 AND Item LIKE '%Chicken%' AND Item NOT LIKE '%without chicken%' AND Item NOT LIKE '%Bacon%' AND Item NOT LIKE '%BLT%' ORDER BY Calories ASC\")).fetchall()\n",
    "\n",
    "html = \"<div style='height:200px; overflow:auto; border:1px solid #ccc; padding:10px;'>\"\n",
    "for row in wendys_no_red:\n",
    "    html += f\"{row}<br>\"\n",
    "html += \"</div>\"\n",
    "\n",
    "display(HTML(html))"
   ]
  },
  {
   "cell_type": "code",
   "execution_count": 20,
   "id": "b9c1d41a-0a93-4d21-bbef-1805d443ef35",
   "metadata": {},
   "outputs": [
    {
     "data": {
      "text/html": [
       "<a href='wendys_nutrition.xlsx' target='_blank'>wendys_nutrition.xlsx</a><br>"
      ],
      "text/plain": [
       "C:\\Users\\bkpug\\PycharmProjects\\AutoIT2\\wendys_nutrition.xlsx"
      ]
     },
     "execution_count": 20,
     "metadata": {},
     "output_type": "execute_result"
    }
   ],
   "source": [
    "with engine.begin() as conn:\n",
    "    wendys_by_protein1 = pd.read_sql(text(\"SELECT Company, Item, Calories, Protein FROM data WHERE Company = 'Wendy’s' AND Calories <= 300 AND Protein >= 10 ORDER BY Protein DESC LIMIT 10\"), conn)\n",
    "    wendys_by_calories1 = pd.read_sql(text(\"SELECT Company, Item, Calories, Protein FROM data WHERE Company = 'Wendy’s' AND Calories <= 300 AND Protein >= 10 ORDER BY Calories DESC LIMIT 10\"), conn)\n",
    "    wendys_low_sugar1 = pd.read_sql(text(\"SELECT Company, Item, Calories, Sugars FROM data WHERE Company = 'Wendy’s' AND Sugars <= 10 AND Calories <= 300 ORDER BY Sugars ASC\"), conn)\n",
    "    wendys_no_red1 = pd.read_sql(text(\"SELECT Company, Item, Calories, Protein FROM data WHERE Company = 'Wendy’s' AND Calories <= 600 AND Item LIKE '%Chicken%' AND Item NOT LIKE '%without chicken%' AND Item NOT LIKE '%Bacon%' AND Item NOT LIKE '%BLT%' ORDER BY Calories ASC\"), conn)\n",
    "\n",
    "with pd.ExcelWriter(\"wendys_nutrition.xlsx\") as writer:\n",
    "    wendys_by_protein1.to_excel(writer, sheet_name=\"Protein Focused Diet\", index=False)\n",
    "    wendys_by_calories1.to_excel(writer, sheet_name=\"Calorie Focused Diet\", index=False)\n",
    "    wendys_low_sugar1.to_excel(writer, sheet_name=\"Low Sugar Diet\", index=False)\n",
    "    wendys_no_red1.to_excel(writer, sheet_name=\"No Red Meat\", index=False)\n",
    "\n",
    "FileLink(\"wendys_nutrition.xlsx\")"
   ]
  },
  {
   "cell_type": "code",
   "execution_count": 21,
   "id": "e97cca7e-5604-4569-870c-cc5bec0d3433",
   "metadata": {},
   "outputs": [
    {
     "data": {
      "text/plain": [
       "[('KFC', 'Breast', 260.0, 38.0),\n",
       " ('KFC', 'KENTUCKY GRILLED CHICKEN Breast', 210.0, 38.0),\n",
       " ('KFC', 'KFC® Gizzards', 300.0, 20.0),\n",
       " ('KFC', 'Limited Time ORIGINAL RECIPE CHICKEN Chicken Thigh', 280.0, 19.0),\n",
       " ('KFC', 'EXTRA CRISPY  Tender (each)', 260.0, 19.0),\n",
       " ('KFC', 'Thigh', 180.0, 17.0),\n",
       " ('KFC', 'KENTUCKY GRILLED CHICKEN Thigh', 150.0, 17.0),\n",
       " ('KFC', 'KFC® Livers', 230.0, 17.0),\n",
       " ('KFC', 'Chicken Littles', 300.0, 14.0),\n",
       " ('KFC', 'SPICY CRISPY CHICKEN Thigh', 270.0, 13.0)]"
      ]
     },
     "execution_count": 21,
     "metadata": {},
     "output_type": "execute_result"
    }
   ],
   "source": [
    "with engine.begin() as conn:\n",
    "    kfc_by_protein = conn.execute(text(\"SELECT Company, Item, Calories, Protein FROM data WHERE Company = 'KFC' AND Calories <= 300 AND Protein >= 10 ORDER BY Protein DESC LIMIT 10\")).fetchall()\n",
    "\n",
    "kfc_by_protein"
   ]
  },
  {
   "cell_type": "code",
   "execution_count": 22,
   "id": "6ad746c9-7a92-48bd-a064-056a4e94f0ec",
   "metadata": {},
   "outputs": [
    {
     "data": {
      "text/plain": [
       "[('KFC', 'Chicken Littles', 300.0, 14.0),\n",
       " ('KFC', 'KFC® Gizzards', 300.0, 20.0),\n",
       " ('KFC', 'Chicken Whole Wing', 290.0, 10.0),\n",
       " ('KFC', 'POPCORN NUGGETS Kids', 290.0, 13.0),\n",
       " ('KFC', 'Limited Time ORIGINAL RECIPE CHICKEN Chicken Thigh', 280.0, 19.0),\n",
       " ('KFC', 'Sweet Kernel Corn (Family)', 280.0, 10.0),\n",
       " ('KFC', 'SPICY CRISPY CHICKEN Thigh', 270.0, 13.0),\n",
       " ('KFC', 'KFC® Famous Bowl – Snack Size', 270.0, 11.0),\n",
       " ('KFC', 'Breast', 260.0, 38.0),\n",
       " ('KFC', 'EXTRA CRISPY  Tender (each)', 260.0, 19.0)]"
      ]
     },
     "execution_count": 22,
     "metadata": {},
     "output_type": "execute_result"
    }
   ],
   "source": [
    "with engine.begin() as conn:\n",
    "    kfc_by_calories = conn.execute(text(\"SELECT Company, Item, Calories, Protein FROM data WHERE Company = 'KFC' AND Calories <= 300 AND Protein >= 10 ORDER BY Calories DESC LIMIT 10\")).fetchall()\n",
    "\n",
    "kfc_by_calories"
   ]
  },
  {
   "cell_type": "code",
   "execution_count": 61,
   "id": "8a3fa377-5f47-49cf-9ed5-661eff7dfd8e",
   "metadata": {},
   "outputs": [
    {
     "data": {
      "text/html": [
       "<div style='height:200px; overflow:auto; border:1px solid #ccc; padding:10px;'>('KFC', 'Limited Time ORIGINAL RECIPE CHICKEN Chicken Limited Time Drumstick', 130.0, 0.0)<br>('KFC', 'Limited Time ORIGINAL RECIPE CHICKEN Chicken Thigh', 280.0, 0.0)<br>('KFC', 'Limited Time ORIGINAL RECIPE CHICKEN Chicken Whole Wing', 130.0, 0.0)<br>('KFC', 'Chicken Drumstick', 250.0, 0.0)<br>('KFC', 'Breast', 260.0, 0.0)<br>('KFC', 'Drumstick', 100.0, 0.0)<br>('KFC', 'Thigh', 180.0, 0.0)<br>('KFC', 'Whole Wing', 90.0, 0.0)<br>('KFC', 'Drumstick', 190.0, 0.0)<br>('KFC', 'Whole Wing', 180.0, 0.0)<br>('KFC', 'EXTRA CRISPY  Chicken Drumstick', 170.0, 0.0)<br>('KFC', 'EXTRA CRISPY  Chicken Whole Wing', 170.0, 0.0)<br>('KFC', 'KENTUCKY GRILLED CHICKEN Breast', 210.0, 0.0)<br>('KFC', 'KENTUCKY GRILLED CHICKEN Drumstick', 80.0, 0.0)<br>('KFC', 'KENTUCKY GRILLED CHICKEN Thigh', 150.0, 0.0)<br>('KFC', 'KENTUCKY GRILLED CHICKEN Whole Wing', 70.0, 0.0)<br>('KFC', 'SPICY CRISPY CHICKEN Drumstick', 130.0, 0.0)<br>('KFC', 'SPICY CRISPY CHICKEN Thigh', 270.0, 0.0)<br>('KFC', 'SPICY CRISPY CHICKEN Whole Wing', 120.0, 0.0)<br>('KFC', 'EXTRA CRISPY  Tender (each)', 260.0, 0.0)<br>('KFC', 'EXTRA CRISPY  Tender (each)', 220.0, 0.0)<br>('KFC', 'KENTUCKY FRIED WINGS Buffalo', 100.0, 0.0)<br>('KFC', 'KENTUCKY FRIED WINGS Nashville Hot', 130.0, 0.0)<br>('KFC', 'KENTUCKY FRIED WINGS Unsauced', 80.0, 0.0)<br>('KFC', 'POPCORN NUGGETS Kids', 290.0, 0.0)<br>('KFC', 'Mashed Potatoes', 110.0, 0.0)<br>('KFC', 'Mashed Potatoes With Gravy', 130.0, 0.0)<br>('KFC', 'Parmesan Garlic Croutons', 60.0, 0.0)<br>('KFC', 'Colonel’s Buttery Spread', 35.0, 0.0)<br>('KFC', 'Lemon Juice Packet', 5.0, 0.0)<br>('KFC', 'Diet Dr Pepper® (12 fl oz)', 0.0, 0.0)<br>('KFC', 'Diet Dr Pepper® (16 fl oz)', 0.0, 0.0)<br>('KFC', 'Diet Dr Pepper® (20 fl oz)', 0.0, 0.0)<br>('KFC', 'Diet Dr Pepper® (30 fl oz)', 0.0, 0.0)<br>('KFC', 'Diet Mist Twst® (12 fl oz)', 0.0, 0.0)<br>('KFC', 'Diet Mist Twst® (16 fl oz)', 0.0, 0.0)<br>('KFC', 'Diet Mist Twst® (20 fl oz)', 0.0, 0.0)<br>('KFC', 'Diet Mist Twst® (30 fl oz)', 5.0, 0.0)<br>('KFC', 'Diet Mountain Dew® (12 fl oz)', 0.0, 0.0)<br>('KFC', 'Diet Mountain Dew® (16 fl oz)', 5.0, 0.0)<br>('KFC', 'Diet Pepsi® (12 fl oz)', 0.0, 0.0)<br>('KFC', 'Diet Pepsi® (16 fl oz)', 0.0, 0.0)<br>('KFC', 'Diet Pepsi® (20 fl oz)', 0.0, 0.0)<br>('KFC', 'Diet Pepsi® (30 fl oz)', 0.0, 0.0)<br>('KFC', 'Diet Pepsi® Wild Cherry Pepsi® (12 fl oz)', 0.0, 0.0)<br>('KFC', 'Diet Pepsi® Wild Cherry Pepsi® (16 fl oz)', 0.0, 0.0)<br>('KFC', 'Diet Pepsi® Wild Cherry Pepsi® (20 fl oz)', 0.0, 0.0)<br>('KFC', 'Diet Pepsi® Wild Cherry Pepsi® (30 fl oz)', 0.0, 0.0)<br>('KFC', 'Lipton® Brisk® No Calorie Peach Iced Green Tea (12 fl oz)', 0.0, 0.0)<br>('KFC', 'Lipton® Brisk® No Calorie Peach Iced Green Tea (16 fl oz)', 0.0, 0.0)<br>('KFC', 'Lipton® Brisk® No Calorie Peach Iced Green Tea (20 fl oz)', 5.0, 0.0)<br>('KFC', 'Lipton® Brisk® No Calorie Peach Iced Green Tea (30 fl oz)', 10.0, 0.0)<br>('KFC', 'Lipton® Brisk® Unsweetened No Lemon Iced Tea (12 fl oz)', 0.0, 0.0)<br>('KFC', 'Lipton® Brisk® Unsweetened No Lemon Iced Tea (16 fl oz)', 0.0, 0.0)<br>('KFC', 'Lipton® Brisk® Unsweetened No Lemon Iced Tea (20 fl oz)', 0.0, 0.0)<br>('KFC', 'Lipton® Brisk® Unsweetened No Lemon Iced Tea (30 fl oz)', 0.0, 0.0)<br>('KFC', 'Pepsi Zero Sugar® (12 fl oz)', 0.0, 0.0)<br>('KFC', 'Pepsi Zero Sugar® (16 fl oz)', 0.0, 0.0)<br>('KFC', 'Pepsi Zero Sugar® (20 fl oz)', 0.0, 0.0)<br>('KFC', 'Pepsi Zero Sugar® (30 fl oz)', 0.0, 0.0)<br>('KFC', 'Sobe Lifewater Yumberry Pomegranate (12 fl oz)', 0.0, 0.0)<br>('KFC', 'Sobe Lifewater Yumberry Pomegranate (16 fl oz)', 0.0, 0.0)<br>('KFC', 'Sobe Lifewater Yumberry Pomegranate (20 fl oz)', 0.0, 0.0)<br>('KFC', 'Sobe Lifewater Yumberry Pomegranate (30 fl oz)', 5.0, 0.0)<br>('KFC', 'Tropicana® Light Lemonade (12 fl oz)', 5.0, 0.0)<br>('KFC', 'Tropicana® Light Lemonade (16 fl oz)', 10.0, 0.0)<br>('KFC', 'Tropicana® Light Lemonade (20 fl oz)', 10.0, 0.0)<br>('KFC', 'Tropicana® Light Lemonade (30 fl oz)', 15.0, 0.0)<br>('KFC', 'KFC® Gizzards', 300.0, 0.0)<br>('KFC', 'KFC® Livers', 230.0, 0.0)<br>('KFC', 'Chicken Whole Wing', 290.0, 1.0)<br>('KFC', 'Biscuit', 180.0, 1.0)<br>('KFC', 'Green Beans', 25.0, 1.0)<br>('KFC', 'KFC® Famous Bowl – Snack Size', 270.0, 1.0)<br>('KFC', 'Caesar Side Salad', 40.0, 1.0)<br>('KFC', 'Heinz Buttermilk Dressing', 160.0, 1.0)<br>('KFC', 'Marzetti Light Italian Dressing', 15.0, 1.0)<br>('KFC', 'Ranch – Dipping Sauce Cup', 130.0, 1.0)<br>('KFC', 'Diet Mountain Dew® (20 fl oz)', 10.0, 1.0)<br>('KFC', 'Diet Mountain Dew® (30 fl oz)', 10.0, 1.0)<br>('KFC', 'Macaroni & Cheese', 140.0, 2.0)<br>('KFC', 'Sweet Kernel Corn', 70.0, 2.0)<br>('KFC', 'House Side Salad', 15.0, 2.0)<br>('KFC', 'Hidden Valley The Original Ranch Fat Free Dressing', 35.0, 2.0)<br>('KFC', 'KFC® Creamy Parmesan Caesar Dressing', 260.0, 2.0)<br>('KFC', 'Corn on the Cob', 70.0, 3.0)<br>('KFC', 'Green Beans (Family)', 80.0, 3.0)<br>('KFC', 'Chicken Littles', 300.0, 3.0)<br>('KFC', 'KENTUCKY FRIED WINGS Honey BBQ', 100.0, 4.0)<br>('KFC', 'Honey Sauce Packet', 30.0, 5.0)<br>('KFC', 'KFC Sauce – Dipping Sauce Cup', 90.0, 5.0)<br>('KFC', 'Honey Mustard – Dipping Sauce Cup', 110.0, 6.0)<br>('KFC', 'Ketchup', 30.0, 6.0)<br>('KFC', 'Strawberry Jam Packet', 35.0, 6.0)<br>('KFC', 'Grape Jelly Packet', 35.0, 7.0)<br>('KFC', 'Sweet Kernel Corn (Family)', 280.0, 8.0)<br>('KFC', 'Musselman’s™ Applesauce', 45.0, 8.0)<br>('KFC', 'Macaroni Salad', 140.0, 9.0)<br>('KFC', 'Coleslaw', 170.0, 10.0)<br>('KFC', 'Milk 1%', 90.0, 10.0)<br></div>"
      ],
      "text/plain": [
       "<IPython.core.display.HTML object>"
      ]
     },
     "metadata": {},
     "output_type": "display_data"
    }
   ],
   "source": [
    "with engine.begin() as conn:\n",
    "    kfc_low_sugar = conn.execute(text(\"SELECT Company, Item, Calories, Sugars FROM data WHERE Company = 'KFC' AND Sugars <= 10 AND Calories <= 300 ORDER BY Sugars ASC\")).fetchall()\n",
    "\n",
    "html = \"<div style='height:200px; overflow:auto; border:1px solid #ccc; padding:10px;'>\"\n",
    "for row in kfc_low_sugar:\n",
    "    html += f\"{row}<br>\"\n",
    "html += \"</div>\"\n",
    "\n",
    "display(HTML(html))"
   ]
  },
  {
   "cell_type": "code",
   "execution_count": 62,
   "id": "aee1e9d2-f092-42ea-92ce-85919c2842e4",
   "metadata": {},
   "outputs": [
    {
     "data": {
      "text/html": [
       "<div style='height:200px; overflow:auto; border:1px solid #ccc; padding:10px;'>('KFC', 'KENTUCKY GRILLED CHICKEN Whole Wing', 70.0, 9.0)<br>('KFC', 'KENTUCKY GRILLED CHICKEN Drumstick', 80.0, 11.0)<br>('KFC', 'SPICY CRISPY CHICKEN Whole Wing', 120.0, 7.0)<br>('KFC', 'Limited Time ORIGINAL RECIPE CHICKEN Chicken Limited Time Drumstick', 130.0, 12.0)<br>('KFC', 'Limited Time ORIGINAL RECIPE CHICKEN Chicken Whole Wing', 130.0, 10.0)<br>('KFC', 'SPICY CRISPY CHICKEN Drumstick', 130.0, 9.0)<br>('KFC', 'KENTUCKY GRILLED CHICKEN Thigh', 150.0, 17.0)<br>('KFC', 'EXTRA CRISPY  Chicken Drumstick', 170.0, 10.0)<br>('KFC', 'EXTRA CRISPY  Chicken Whole Wing', 170.0, 10.0)<br>('KFC', 'KENTUCKY GRILLED CHICKEN Breast', 210.0, 38.0)<br>('KFC', 'Chicken Drumstick', 250.0, 11.0)<br>('KFC', 'SPICY CRISPY CHICKEN Thigh', 270.0, 13.0)<br>('KFC', 'Limited Time ORIGINAL RECIPE CHICKEN Chicken Thigh', 280.0, 19.0)<br>('KFC', 'Chicken Whole Wing', 290.0, 10.0)<br>('KFC', 'Chicken Littles', 300.0, 14.0)<br>('KFC', 'Chicken Littles – Buffalo', 310.0, 14.0)<br>('KFC', 'Chicken Littles – Honey BBQ', 320.0, 14.0)<br>('KFC', 'EXTRA CRISPY  Chicken Thigh', 330.0, 22.0)<br>('KFC', 'Chicken Littles – Nashville Hot', 340.0, 14.0)<br>('KFC', 'SPICY CRISPY CHICKEN Breast', 350.0, 30.0)<br>('KFC', 'Limited Time ORIGINAL RECIPE CHICKEN Chicken Breast', 390.0, 39.0)<br>('KFC', 'Chicken Thigh', 500.0, 22.0)<br>('KFC', 'EXTRA CRISPY  Chicken Breast', 530.0, 35.0)<br></div>"
      ],
      "text/plain": [
       "<IPython.core.display.HTML object>"
      ]
     },
     "metadata": {},
     "output_type": "display_data"
    }
   ],
   "source": [
    "with engine.begin() as conn:\n",
    "    kfc_no_red = conn.execute(text(\"SELECT Company, Item, Calories, Protein FROM data WHERE Company = 'KFC' AND Calories <= 600 AND Item LIKE '%Chicken%' AND Item NOT LIKE '%without chicken%' AND Item NOT LIKE '%Bacon%' AND Item NOT LIKE '%BLT%' ORDER BY Calories ASC\")).fetchall()\n",
    "\n",
    "html = \"<div style='height:200px; overflow:auto; border:1px solid #ccc; padding:10px;'>\"\n",
    "for row in kfc_no_red:\n",
    "    html += f\"{row}<br>\"\n",
    "html += \"</div>\"\n",
    "\n",
    "display(HTML(html))"
   ]
  },
  {
   "cell_type": "code",
   "execution_count": 25,
   "id": "185449cc-540f-45d0-a704-2f6507a1364c",
   "metadata": {},
   "outputs": [
    {
     "data": {
      "text/html": [
       "<a href='kfc_nutrition.xlsx' target='_blank'>kfc_nutrition.xlsx</a><br>"
      ],
      "text/plain": [
       "C:\\Users\\bkpug\\PycharmProjects\\AutoIT2\\kfc_nutrition.xlsx"
      ]
     },
     "execution_count": 25,
     "metadata": {},
     "output_type": "execute_result"
    }
   ],
   "source": [
    "with engine.begin() as conn:\n",
    "    kfc_by_protein1 = pd.read_sql(text(\"SELECT Company, Item, Calories, Protein FROM data WHERE Company = 'KFC' AND Calories <= 300 AND Protein >= 10 ORDER BY Protein DESC LIMIT 10\"), conn)\n",
    "    kfc_by_calories1 = pd.read_sql(text(\"SELECT Company, Item, Calories, Protein FROM data WHERE Company = 'KFC' AND Calories <= 300 AND Protein >= 10 ORDER BY Calories DESC LIMIT 10\"), conn)\n",
    "    kfc_low_sugar1 = pd.read_sql(text(\"SELECT Company, Item, Calories, Sugars FROM data WHERE Company = 'KFC' AND Sugars <= 10 AND Calories <= 300 ORDER BY Sugars ASC\"), conn)\n",
    "    kfc_no_red1 = pd.read_sql(text(\"SELECT Company, Item, Calories, Protein FROM data WHERE Company = 'KFC' AND Calories <= 600 AND Item LIKE '%Chicken%' AND Item NOT LIKE '%without chicken%' AND Item NOT LIKE '%Bacon%' AND Item NOT LIKE '%BLT%' ORDER BY Calories ASC\"), conn)\n",
    "\n",
    "with pd.ExcelWriter(\"kfc_nutrition.xlsx\") as writer:\n",
    "    kfc_by_protein1.to_excel(writer, sheet_name=\"Protein Focused Diet\", index=False)\n",
    "    kfc_by_calories1.to_excel(writer, sheet_name=\"Calorie Focused Diet\", index=False)\n",
    "    kfc_low_sugar1.to_excel(writer, sheet_name=\"Low Sugar Diet\", index=False)\n",
    "    kfc_no_red1.to_excel(writer, sheet_name=\"No Red Meat\", index=False)\n",
    "\n",
    "FileLink(\"kfc_nutrition.xlsx\")"
   ]
  },
  {
   "cell_type": "code",
   "execution_count": 26,
   "id": "7951c261-296f-44c5-af28-9cb85dfc9967",
   "metadata": {},
   "outputs": [
    {
     "data": {
      "text/plain": [
       "[('Taco Bell', 'Soft Taco – Chicken', 180.0, 13.0),\n",
       " ('Taco Bell', 'Soft Taco – Chicken', 160.0, 12.0),\n",
       " ('Taco Bell', 'Chicken Chipotle Melt – Value Menu', 190.0, 12.0),\n",
       " ('Taco Bell', 'Loaded Nacho Taco', 250.0, 10.0),\n",
       " ('Taco Bell', 'Loaded Nacho Taco (New)', 250.0, 10.0),\n",
       " ('Taco Bell', 'Soft Taco – Beef', 210.0, 10.0),\n",
       " ('Taco Bell', 'Soft Taco Supreme – Specialties', 210.0, 10.0),\n",
       " ('Taco Bell', 'Loaded Nacho Taco – Value Menu', 250.0, 10.0)]"
      ]
     },
     "execution_count": 26,
     "metadata": {},
     "output_type": "execute_result"
    }
   ],
   "source": [
    "with engine.begin() as conn:\n",
    "    taco_bell_by_protein = conn.execute(text(\"SELECT Company, Item, Calories, Protein FROM data WHERE Company = 'Taco Bell' AND Calories <= 300 AND Protein >= 10 ORDER BY Protein DESC LIMIT 10\")).fetchall()\n",
    "\n",
    "taco_bell_by_protein"
   ]
  },
  {
   "cell_type": "code",
   "execution_count": 27,
   "id": "b1d2617d-6bd1-4d22-969b-4c33212bccbf",
   "metadata": {},
   "outputs": [
    {
     "data": {
      "text/plain": [
       "[('Taco Bell', 'Loaded Nacho Taco', 250.0, 10.0),\n",
       " ('Taco Bell', 'Loaded Nacho Taco (New)', 250.0, 10.0),\n",
       " ('Taco Bell', 'Loaded Nacho Taco – Value Menu', 250.0, 10.0),\n",
       " ('Taco Bell', 'Soft Taco – Beef', 210.0, 10.0),\n",
       " ('Taco Bell', 'Soft Taco Supreme – Specialties', 210.0, 10.0),\n",
       " ('Taco Bell', 'Chicken Chipotle Melt – Value Menu', 190.0, 12.0),\n",
       " ('Taco Bell', 'Soft Taco – Chicken', 180.0, 13.0),\n",
       " ('Taco Bell', 'Soft Taco – Chicken', 160.0, 12.0)]"
      ]
     },
     "execution_count": 27,
     "metadata": {},
     "output_type": "execute_result"
    }
   ],
   "source": [
    "with engine.begin() as conn:\n",
    "    taco_bell_by_calories = conn.execute(text(\"SELECT Company, Item, Calories, Protein FROM data WHERE Company = 'Taco Bell' AND Calories <= 300 AND Protein >= 10 ORDER BY Calories DESC LIMIT 10\")).fetchall()\n",
    "\n",
    "taco_bell_by_calories"
   ]
  },
  {
   "cell_type": "code",
   "execution_count": 63,
   "id": "7a1ed4b2-c3e6-4f35-b30f-98088bebdc11",
   "metadata": {},
   "outputs": [
    {
     "data": {
      "text/html": [
       "<div style='height:200px; overflow:auto; border:1px solid #ccc; padding:10px;'>('Taco Bell', 'Crunchy Taco', 170.0, 0.0)<br>('Taco Bell', 'Nacho Cheese Doritos® Locos Taco', 170.0, 0.0)<br>('Taco Bell', 'Cheesy Roll Up – Specialties', 180.0, 0.0)<br>('Taco Bell', 'Crunchy Taco – Specialties', 170.0, 0.0)<br>('Taco Bell', 'Nacho Cheese Doritos® Locos Taco – Specialties', 170.0, 0.0)<br>('Taco Bell', 'Black Beans & Rice (V)', 170.0, 0.0)<br>('Taco Bell', 'Black Beans (V)', 50.0, 0.0)<br>('Taco Bell', 'Diablo Sauce Packet (V)', 0.0, 0.0)<br>('Taco Bell', 'Fire Sauce Packet (V)', 0.0, 0.0)<br>('Taco Bell', 'Hot Sauce Packet (V)', 0.0, 0.0)<br>('Taco Bell', 'Mild Sauce Packet (V)', 0.0, 0.0)<br>('Taco Bell', 'Premium Hot Coffee', 10.0, 0.0)<br>('Taco Bell', 'Regular Iced Coffee', 10.0, 0.0)<br>('Taco Bell', 'Water', 0.0, 0.0)<br>('Taco Bell', 'Cheesy Roll Up – Value Menu', 180.0, 0.0)<br>('Taco Bell', 'Chicken Chipotle Melt – Value Menu', 190.0, 0.0)<br>('Taco Bell', 'Black Beans & Rice', 170.0, 0.0)<br>('Taco Bell', 'Cheesy Roll Up', 180.0, 0.0)<br>('Taco Bell', 'Hash Brown', 160.0, 0.0)<br>('Taco Bell', 'Breakfast Salsa Packet (V)', 0.0, 0.0)<br>('Taco Bell', 'Hash Brown (V)', 160.0, 0.0)<br>('Taco Bell', 'Brisk® Unsweetened No Lemon Iced Tea (16 fl oz)', 0.0, 0.0)<br>('Taco Bell', 'Diet Dr Pepper® (16 fl oz)', 0.0, 0.0)<br>('Taco Bell', 'Diet Pepsi® (16 fl oz)', 0.0, 0.0)<br>('Taco Bell', 'Mtn Dew® Baja Blast Zero Sugar (16 fl oz)', 5.0, 0.0)<br>('Taco Bell', 'Pepsi® Zero Sugar (16 fl oz)', 0.0, 0.0)<br>('Taco Bell', 'Brisk® Unsweetened No Lemon Iced Tea (20 fl oz)', 0.0, 0.0)<br>('Taco Bell', 'Diet Dr Pepper® (20 fl oz)', 0.0, 0.0)<br>('Taco Bell', 'Diet Pepsi® (20 fl oz)', 0.0, 0.0)<br>('Taco Bell', 'Mtn Dew® Baja Blast Zero Sugar (20 fl oz)', 10.0, 0.0)<br>('Taco Bell', 'Pepsi® Zero Sugar (20 fl oz)', 0.0, 0.0)<br>('Taco Bell', 'Brisk® Unsweetened No Lemon Iced Tea (30 fl oz)', 0.0, 0.0)<br>('Taco Bell', 'Diet Dr Pepper® (30 fl oz)', 0.0, 0.0)<br>('Taco Bell', 'Diet Pepsi® (30 fl oz)', 0.0, 0.0)<br>('Taco Bell', 'Mtn Dew® Baja Blast Zero Sugar (30 fl oz)', 15.0, 0.0)<br>('Taco Bell', 'Pepsi® Zero Sugar (30 fl oz)', 0.0, 0.0)<br>('Taco Bell', 'Soft Taco – Beef', 180.0, 1.0)<br>('Taco Bell', 'Soft Taco – Chicken', 160.0, 1.0)<br>('Taco Bell', 'Soft Taco – Specialties', 180.0, 1.0)<br>('Taco Bell', 'Diet Mtn Dew® (16 fl oz)', 5.0, 1.0)<br>('Taco Bell', 'Diet Mtn Dew® (20 fl oz)', 10.0, 1.0)<br>('Taco Bell', 'Diet Mtn Dew® (30 fl oz)', 10.0, 1.0)<br>('Taco Bell', 'Loaded Nacho Taco', 250.0, 2.0)<br>('Taco Bell', 'Crunchy Taco Supreme®', 190.0, 2.0)<br>('Taco Bell', 'Loaded Nacho Taco (New)', 250.0, 2.0)<br>('Taco Bell', 'Nacho Cheese Doritos® Locos Taco Supreme®', 190.0, 2.0)<br>('Taco Bell', 'Soft Taco – Beef', 210.0, 2.0)<br>('Taco Bell', 'Soft Taco – Chicken', 180.0, 2.0)<br>('Taco Bell', 'Chips and Nacho Cheese Sauce (V)', 220.0, 2.0)<br>('Taco Bell', 'Soft Taco Supreme – Specialties', 210.0, 2.0)<br>('Taco Bell', 'Chips and Nacho Cheese Sauce – Value Menu', 220.0, 2.0)<br>('Taco Bell', 'Loaded Nacho Taco – Value Menu', 250.0, 2.0)<br>('Taco Bell', 'Chips and Nacho Cheese Sauce', 220.0, 2.0)<br>('Taco Bell', 'G2 – Fruit Punch (16 fl oz)', 30.0, 6.0)<br>('Taco Bell', 'G2 – Fruit Punch (20 fl oz)', 35.0, 8.0)<br>('Taco Bell', 'Lowfat Milk – Federal (Regional)', 80.0, 9.0)<br>('Taco Bell', 'Cinnabon® Delights™ (2 Pk) (V)', 160.0, 10.0)<br>('Taco Bell', 'Cinnabon® Delights™ (2 Pack)', 160.0, 10.0)<br>('Taco Bell', 'Cinnabon® Delights™ (2 Pack) (V)', 160.0, 10.0)<br></div>"
      ],
      "text/plain": [
       "<IPython.core.display.HTML object>"
      ]
     },
     "metadata": {},
     "output_type": "display_data"
    }
   ],
   "source": [
    "with engine.begin() as conn:\n",
    "    taco_bell_low_sugar = conn.execute(text(\"SELECT Company, Item, Calories, Sugars FROM data WHERE Company = 'Taco Bell' AND Sugars <= 10 AND Calories <= 300 ORDER BY Sugars ASC\")).fetchall()\n",
    "\n",
    "html = \"<div style='height:200px; overflow:auto; border:1px solid #ccc; padding:10px;'>\"\n",
    "for row in taco_bell_low_sugar:\n",
    "    html += f\"{row}<br>\"\n",
    "html += \"</div>\"\n",
    "\n",
    "display(HTML(html))"
   ]
  },
  {
   "cell_type": "code",
   "execution_count": 29,
   "id": "38a66652-a0af-4060-b673-282a940b987a",
   "metadata": {},
   "outputs": [
    {
     "data": {
      "text/plain": [
       "[('Taco Bell', 'Soft Taco – Chicken', 160.0, 12.0),\n",
       " ('Taco Bell', 'Soft Taco – Chicken', 180.0, 13.0),\n",
       " ('Taco Bell', 'Chicken Chipotle Melt – Value Menu', 190.0, 12.0),\n",
       " ('Taco Bell', 'Chalupa Supreme® – Chicken', 330.0, 16.0),\n",
       " ('Taco Bell', 'Burrito Supreme® – Chicken', 370.0, 19.0),\n",
       " ('Taco Bell', 'Power Menu Bowl – Chicken', 470.0, 26.0),\n",
       " ('Taco Bell', 'Quesadilla – Chicken', 510.0, 27.0)]"
      ]
     },
     "execution_count": 29,
     "metadata": {},
     "output_type": "execute_result"
    }
   ],
   "source": [
    "with engine.begin() as conn:\n",
    "    taco_bell_no_red = conn.execute(text(\"SELECT Company, Item, Calories, Protein FROM data WHERE Company = 'Taco Bell' AND Calories <= 600 AND Item LIKE '%Chicken%' AND Item NOT LIKE '%without chicken%' AND Item NOT LIKE '%Bacon%' AND Item NOT LIKE '%BLT%' ORDER BY Calories ASC\")).fetchall()\n",
    "\n",
    "taco_bell_no_red"
   ]
  },
  {
   "cell_type": "code",
   "execution_count": 30,
   "id": "166d4b40-585a-4c48-81d4-8c17cc6e60d9",
   "metadata": {},
   "outputs": [
    {
     "data": {
      "text/html": [
       "<a href='taco_bell_nutrition.xlsx' target='_blank'>taco_bell_nutrition.xlsx</a><br>"
      ],
      "text/plain": [
       "C:\\Users\\bkpug\\PycharmProjects\\AutoIT2\\taco_bell_nutrition.xlsx"
      ]
     },
     "execution_count": 30,
     "metadata": {},
     "output_type": "execute_result"
    }
   ],
   "source": [
    "with engine.begin() as conn:\n",
    "    taco_bell_by_protein1 = pd.read_sql(text(\"SELECT Company, Item, Calories, Protein FROM data WHERE Company = 'Taco Bell' AND Calories <= 300 AND Protein >= 10 ORDER BY Protein DESC LIMIT 10\"), conn)\n",
    "    taco_bell_by_calories1 = pd.read_sql(text(\"SELECT Company, Item, Calories, Protein FROM data WHERE Company = 'Taco Bell' AND Calories <= 300 AND Protein >= 10 ORDER BY Calories DESC LIMIT 10\"), conn)\n",
    "    taco_bell_low_sugar1 = pd.read_sql(text(\"SELECT Company, Item, Calories, Sugars FROM data WHERE Company = 'Taco Bell' AND Sugars <= 10 AND Calories <= 300 ORDER BY Sugars ASC\"), conn)\n",
    "    taco_bell_no_red1 = pd.read_sql(text(\"SELECT Company, Item, Calories, Protein FROM data WHERE Company = 'Taco Bell' AND Calories <= 600 AND Item LIKE '%Chicken%' AND Item NOT LIKE '%without chicken%' AND Item NOT LIKE '%Bacon%' AND Item NOT LIKE '%BLT%' ORDER BY Calories ASC\"), conn)\n",
    "\n",
    "with pd.ExcelWriter(\"taco_bell_nutrition.xlsx\") as writer:\n",
    "    taco_bell_by_protein1.to_excel(writer, sheet_name=\"Protein Focused Diet\", index=False)\n",
    "    taco_bell_by_calories1.to_excel(writer, sheet_name=\"Calorie Focused Diet\", index=False)\n",
    "    taco_bell_low_sugar1.to_excel(writer, sheet_name=\"Low Sugar Diet\", index=False)\n",
    "    taco_bell_no_red1.to_excel(writer, sheet_name=\"No Red Meat\", index=False)\n",
    "\n",
    "FileLink(\"taco_bell_nutrition.xlsx\")"
   ]
  },
  {
   "cell_type": "code",
   "execution_count": 31,
   "id": "721da006-7f58-43af-9bd8-e2cd3ad83132",
   "metadata": {},
   "outputs": [
    {
     "data": {
      "text/plain": [
       "[('Pizza Hut', 'Hand Tossed Slices Hawaiian Chicken Large', 280.0, 15.0),\n",
       " ('Pizza Hut', 'Hand Tossed Slices Backyard BBQ Chicken Large', 300.0, 14.0),\n",
       " ('Pizza Hut', 'Detroit Double Cheesy Pizza Slice', 280.0, 13.0),\n",
       " ('Pizza Hut', 'Detroit Supremo Pizza Slice', 290.0, 13.0),\n",
       " ('Pizza Hut', 'Pan Pizza Slices Pepperoni Lover’s® Medium', 300.0, 13.0),\n",
       " ('Pizza Hut', 'Hand Tossed Slices  Buffalo Chicken Large', 270.0, 13.0),\n",
       " ('Pizza Hut', 'Hand Tossed Slices Cheese Large', 290.0, 13.0),\n",
       " ('Pizza Hut', 'Hand Tossed Slices Pepperoni Large', 300.0, 13.0),\n",
       " ('Pizza Hut', 'Pan Pizza Slices Chicken Bacon Parmesan Medium', 270.0, 12.0),\n",
       " ('Pizza Hut', 'Pan Pizza Slices Hawaiian Chicken Medium', 240.0, 12.0)]"
      ]
     },
     "execution_count": 31,
     "metadata": {},
     "output_type": "execute_result"
    }
   ],
   "source": [
    "with engine.begin() as conn:\n",
    "    pizza_hut_by_protein = conn.execute(text(\"SELECT Company, Item, Calories, Protein FROM data WHERE Company = 'Pizza Hut' AND Calories <= 300 AND Protein >= 10 ORDER BY Protein DESC LIMIT 10\")).fetchall()\n",
    "\n",
    "pizza_hut_by_protein"
   ]
  },
  {
   "cell_type": "code",
   "execution_count": 32,
   "id": "eeebcfb8-e2e1-4541-a88b-e0158feee03b",
   "metadata": {},
   "outputs": [
    {
     "data": {
      "text/plain": [
       "[('Pizza Hut', 'Pan Pizza Slices Pepperoni Lover’s® Medium', 300.0, 13.0),\n",
       " ('Pizza Hut', 'Hand Tossed Slices Backyard BBQ Chicken Large', 300.0, 14.0),\n",
       " ('Pizza Hut', 'Hand Tossed Slices Pepperoni Large', 300.0, 13.0),\n",
       " ('Pizza Hut', 'Detroit Supremo Pizza Slice', 290.0, 13.0),\n",
       " ('Pizza Hut', 'Hand Tossed Slices Cheese Large', 290.0, 13.0),\n",
       " ('Pizza Hut', 'Hand Tossed Slices Meat Lover’s® Medium', 290.0, 12.0),\n",
       " ('Pizza Hut', 'Detroit Double Cheesy Pizza Slice', 280.0, 13.0),\n",
       " ('Pizza Hut', 'Hand Tossed Slices Beyond Meat® Pepperoni Large', 280.0, 12.0),\n",
       " ('Pizza Hut', 'Hand Tossed Slices Hawaiian Chicken Large', 280.0, 15.0),\n",
       " ('Pizza Hut', 'Pan Pizza Slices Backyard BBQ Chicken Medium', 270.0, 11.0)]"
      ]
     },
     "execution_count": 32,
     "metadata": {},
     "output_type": "execute_result"
    }
   ],
   "source": [
    "with engine.begin() as conn:\n",
    "    pizza_hut_by_calories = conn.execute(text(\"SELECT Company, Item, Calories, Protein FROM data WHERE Company = 'Pizza Hut' AND Calories <= 300 AND Protein >= 10 ORDER BY Calories DESC LIMIT 10\")).fetchall()\n",
    "\n",
    "pizza_hut_by_calories"
   ]
  },
  {
   "cell_type": "code",
   "execution_count": 64,
   "id": "18e3c5ac-d116-4dd9-9ab5-cc0069a97ad2",
   "metadata": {},
   "outputs": [
    {
     "data": {
      "text/html": [
       "<div style='height:200px; overflow:auto; border:1px solid #ccc; padding:10px;'>('Pizza Hut', 'Hand Tossed Slices  Buffalo Chicken Small', 130.0, 0.0)<br>('Pizza Hut', 'Hand Tossed Slices Cheese Small', 130.0, 0.0)<br>('Pizza Hut', 'Hand Tossed Slices Chicken Bacon Parmesan Small', 150.0, 0.0)<br>('Pizza Hut', 'Hand Tossed Slices Meat Lover’s® Small', 180.0, 0.0)<br>('Pizza Hut', 'Hand Tossed Slices Pepperoni Small', 130.0, 0.0)<br>('Pizza Hut', 'Hand Tossed Slices Pepperoni Lover’s® Small', 160.0, 0.0)<br>('Pizza Hut', 'Hand Tossed Slices Ultimate Cheese Lover’s® Small', 150.0, 0.0)<br>('Pizza Hut', 'Pan Pizza Slices Beyond Meat® Pepperoni Medium', 240.0, 1.0)<br>('Pizza Hut', 'Pan Pizza Slices Cheese Medium', 250.0, 1.0)<br>('Pizza Hut', 'Pan Pizza Slices Chicken Bacon Parmesan Medium', 270.0, 1.0)<br>('Pizza Hut', 'Pan Pizza Slices Pepperoni Medium', 250.0, 1.0)<br>('Pizza Hut', 'Pan Pizza Slices Pepperoni Lover’s® Medium', 300.0, 1.0)<br>('Pizza Hut', 'Pan Pizza Slices Ultimate Cheese Lover’s® Medium', 270.0, 1.0)<br>('Pizza Hut', 'Hand Tossed Slices Beyond Meat® Pepperoni Medium', 200.0, 1.0)<br>('Pizza Hut', 'Hand Tossed Slices  Buffalo Chicken Medium', 200.0, 1.0)<br>('Pizza Hut', 'Hand Tossed Slices Cheese Medium', 210.0, 1.0)<br>('Pizza Hut', 'Hand Tossed Slices Chicken Bacon Parmesan Medium', 230.0, 1.0)<br>('Pizza Hut', 'Hand Tossed Slices Hawaiian Chicken Small', 130.0, 1.0)<br>('Pizza Hut', 'Hand Tossed Slices Meat Lover’s® Medium', 290.0, 1.0)<br>('Pizza Hut', 'Hand Tossed Slices Pepperoni Medium', 220.0, 1.0)<br>('Pizza Hut', 'Hand Tossed Slices Pepperoni Lover’s® Medium', 270.0, 1.0)<br>('Pizza Hut', 'Hand Tossed Slices Supreme Small', 150.0, 1.0)<br>('Pizza Hut', 'Hand Tossed Slices Ultimate Cheese Lover’s® Medium', 230.0, 1.0)<br>('Pizza Hut', 'Hand Tossed Slices Veggie Lover’s® Small', 120.0, 1.0)<br>('Pizza Hut', 'Detroit Double Cheesy Pizza Slice', 280.0, 2.0)<br>('Pizza Hut', 'Detroit Supremo Pizza Slice', 290.0, 2.0)<br>('Pizza Hut', 'Pan Pizza Slices Buffalo Chicken Personal Pan', 160.0, 2.0)<br>('Pizza Hut', 'Pan Pizza Slices Buffalo Chicken Medium', 240.0, 2.0)<br>('Pizza Hut', 'Pan Pizza Slices Cheese Personal Pan', 150.0, 2.0)<br>('Pizza Hut', 'Pan Pizza Slices Chicken Bacon Parmesan Personal Pan', 180.0, 2.0)<br>('Pizza Hut', 'Pan Pizza Slices Hawaiian Chicken Medium', 240.0, 2.0)<br>('Pizza Hut', 'Pan Pizza Slices Meat Lover’s® Personal Pan', 210.0, 2.0)<br>('Pizza Hut', 'Pan Pizza Slices Pepperoni Personal Pan', 150.0, 2.0)<br>('Pizza Hut', 'Pan Pizza Slices Pepperoni Lover’s® Personal Pan', 180.0, 2.0)<br>('Pizza Hut', 'Pan Pizza Slices Supreme Personal Pan', 170.0, 2.0)<br>('Pizza Hut', 'Pan Pizza Slices Supreme Medium', 270.0, 2.0)<br>('Pizza Hut', 'Pan Pizza Slices Ultimate Cheese Lover’s® Personal Pan', 170.0, 2.0)<br>('Pizza Hut', 'Pan Pizza Slices Veggie Lover’s® Personal Pan', 140.0, 2.0)<br>('Pizza Hut', 'Pan Pizza Slices Veggie Lover’s® Medium', 230.0, 2.0)<br>('Pizza Hut', 'Hand Tossed Slices Beyond Meat® Pepperoni Large', 280.0, 2.0)<br>('Pizza Hut', 'Hand Tossed Slices  Buffalo Chicken Large', 270.0, 2.0)<br>('Pizza Hut', 'Hand Tossed Slices Cheese Large', 290.0, 2.0)<br>('Pizza Hut', 'Hand Tossed Slices Hawaiian Chicken Medium', 210.0, 2.0)<br>('Pizza Hut', 'Hand Tossed Slices Pepperoni Large', 300.0, 2.0)<br>('Pizza Hut', 'Hand Tossed Slices Supreme Medium', 240.0, 2.0)<br>('Pizza Hut', 'Hand Tossed Slices Veggie Lover’s® Medium', 200.0, 2.0)<br>('Pizza Hut', 'Pan Pizza Slices Hawaiian Chicken Personal Pan', 150.0, 3.0)<br>('Pizza Hut', 'Hand Tossed Slices Hawaiian Chicken Large', 280.0, 3.0)<br>('Pizza Hut', 'Hand Tossed Slices Veggie Lover’s® Large', 260.0, 3.0)<br>('Pizza Hut', 'Hand Tossed Slices Backyard BBQ Chicken Small', 140.0, 4.0)<br>('Pizza Hut', 'Pan Pizza Slices Backyard BBQ Chicken Medium', 270.0, 6.0)<br>('Pizza Hut', 'Hand Tossed Slices Backyard BBQ Chicken Medium', 220.0, 6.0)<br>('Pizza Hut', 'Hand Tossed Slices Backyard BBQ Chicken Large', 300.0, 7.0)<br>('Pizza Hut', 'Pan Pizza Slices Backyard BBQ Chicken Personal Pan', 180.0, 8.0)<br></div>"
      ],
      "text/plain": [
       "<IPython.core.display.HTML object>"
      ]
     },
     "metadata": {},
     "output_type": "display_data"
    }
   ],
   "source": [
    "with engine.begin() as conn:\n",
    "    pizza_hut_low_sugar = conn.execute(text(\"SELECT Company, Item, Calories, Sugars FROM data WHERE Company = 'Pizza Hut' AND Sugars <= 10 AND Calories <= 300 ORDER BY Sugars ASC\")).fetchall()\n",
    "\n",
    "html = \"<div style='height:200px; overflow:auto; border:1px solid #ccc; padding:10px;'>\"\n",
    "for row in pizza_hut_low_sugar:\n",
    "    html += f\"{row}<br>\"\n",
    "html += \"</div>\"\n",
    "\n",
    "display(HTML(html))"
   ]
  },
  {
   "cell_type": "code",
   "execution_count": 65,
   "id": "d176839d-4564-40d0-8e24-63e9489885f5",
   "metadata": {},
   "outputs": [
    {
     "data": {
      "text/html": [
       "<div style='height:200px; overflow:auto; border:1px solid #ccc; padding:10px;'>('Pizza Hut', 'Hand Tossed Slices  Buffalo Chicken Small', 130.0, 6.0)<br>('Pizza Hut', 'Hand Tossed Slices Hawaiian Chicken Small', 130.0, 7.0)<br>('Pizza Hut', 'Hand Tossed Slices Backyard BBQ Chicken Small', 140.0, 6.0)<br>('Pizza Hut', 'Pan Pizza Slices Hawaiian Chicken Personal Pan', 150.0, 8.0)<br>('Pizza Hut', 'Pan Pizza Slices Buffalo Chicken Personal Pan', 160.0, 7.0)<br>('Pizza Hut', 'Pan Pizza Slices Backyard BBQ Chicken Personal Pan', 180.0, 8.0)<br>('Pizza Hut', 'Hand Tossed Slices  Buffalo Chicken Medium', 200.0, 9.0)<br>('Pizza Hut', 'Hand Tossed Slices Hawaiian Chicken Medium', 210.0, 10.0)<br>('Pizza Hut', 'Hand Tossed Slices Backyard BBQ Chicken Medium', 220.0, 10.0)<br>('Pizza Hut', 'Pan Pizza Slices Buffalo Chicken Medium', 240.0, 11.0)<br>('Pizza Hut', 'Pan Pizza Slices Hawaiian Chicken Medium', 240.0, 12.0)<br>('Pizza Hut', 'Pan Pizza Slices Backyard BBQ Chicken Medium', 270.0, 11.0)<br>('Pizza Hut', 'Hand Tossed Slices  Buffalo Chicken Large', 270.0, 13.0)<br>('Pizza Hut', 'Hand Tossed Slices Hawaiian Chicken Large', 280.0, 15.0)<br>('Pizza Hut', 'Hand Tossed Slices Backyard BBQ Chicken Large', 300.0, 14.0)<br>('Pizza Hut', 'Pan Pizza Slices Buffalo Chicken Large', 350.0, 15.0)<br>('Pizza Hut', 'Pan Pizza Slices Hawaiian Chicken Large', 350.0, 17.0)<br>('Pizza Hut', 'Pan Pizza Slices Backyard BBQ Chicken Large', 380.0, 16.0)<br></div>"
      ],
      "text/plain": [
       "<IPython.core.display.HTML object>"
      ]
     },
     "metadata": {},
     "output_type": "display_data"
    }
   ],
   "source": [
    "with engine.begin() as conn:\n",
    "    pizza_hut_no_red = conn.execute(text(\"SELECT Company, Item, Calories, Protein FROM data WHERE Company = 'Pizza Hut' AND Calories <= 600 AND Item LIKE '%Chicken%' AND Item NOT LIKE '%without chicken%' AND Item NOT LIKE '%Bacon%' AND Item NOT LIKE '%BLT%' ORDER BY Calories ASC\")).fetchall()\n",
    "\n",
    "html = \"<div style='height:200px; overflow:auto; border:1px solid #ccc; padding:10px;'>\"\n",
    "for row in pizza_hut_no_red:\n",
    "    html += f\"{row}<br>\"\n",
    "html += \"</div>\"\n",
    "\n",
    "display(HTML(html))"
   ]
  },
  {
   "cell_type": "code",
   "execution_count": 35,
   "id": "8f0bf682-d006-483a-ad7b-83e423e83e7d",
   "metadata": {},
   "outputs": [
    {
     "data": {
      "text/html": [
       "<a href='pizza_hut_nutrition.xlsx' target='_blank'>pizza_hut_nutrition.xlsx</a><br>"
      ],
      "text/plain": [
       "C:\\Users\\bkpug\\PycharmProjects\\AutoIT2\\pizza_hut_nutrition.xlsx"
      ]
     },
     "execution_count": 35,
     "metadata": {},
     "output_type": "execute_result"
    }
   ],
   "source": [
    "with engine.begin() as conn:\n",
    "    pizza_hut_by_protein1 = pd.read_sql(text(\"SELECT Company, Item, Calories, Protein FROM data WHERE Company = 'Pizza Hut' AND Calories <= 300 AND Protein >= 10 ORDER BY Protein DESC LIMIT 10\"), conn)\n",
    "    pizza_hut_by_calories1 = pd.read_sql(text(\"SELECT Company, Item, Calories, Protein FROM data WHERE Company = 'Pizza Hut' AND Calories <= 300 AND Protein >= 10 ORDER BY Calories DESC LIMIT 10\"), conn)\n",
    "    pizza_hut_low_sugar1 = pd.read_sql(text(\"SELECT Company, Item, Calories, Sugars FROM data WHERE Company = 'Pizza Hut' AND Sugars <= 10 AND Calories <= 300 ORDER BY Sugars ASC\"), conn)\n",
    "    pizza_hut_no_red1 = pd.read_sql(text(\"SELECT Company, Item, Calories, Protein FROM data WHERE Company = 'Pizza Hut' AND Calories <= 600 AND Item LIKE '%Chicken%' AND Item NOT LIKE '%without chicken%' AND Item NOT LIKE '%Bacon%' AND Item NOT LIKE '%BLT%' ORDER BY Calories ASC\"), conn)\n",
    "\n",
    "with pd.ExcelWriter(\"pizza_hut_nutrition.xlsx\") as writer:\n",
    "    pizza_hut_by_protein1.to_excel(writer, sheet_name=\"Protein Focused Diet\", index=False)\n",
    "    pizza_hut_by_calories1.to_excel(writer, sheet_name=\"Calorie Focused Diet\", index=False)\n",
    "    pizza_hut_low_sugar1.to_excel(writer, sheet_name=\"Low Sugar Diet\", index=False)\n",
    "    pizza_hut_no_red1.to_excel(writer, sheet_name=\"No Red Meat\", index=False)\n",
    "\n",
    "FileLink(\"pizza_hut_nutrition.xlsx\")"
   ]
  },
  {
   "cell_type": "code",
   "execution_count": null,
   "id": "5f0944e2-fb8c-4d51-a159-91edcd41cea2",
   "metadata": {},
   "outputs": [],
   "source": []
  }
 ],
 "metadata": {
  "kernelspec": {
   "display_name": "Python 3 (ipykernel)",
   "language": "python",
   "name": "python3"
  },
  "language_info": {
   "codemirror_mode": {
    "name": "ipython",
    "version": 3
   },
   "file_extension": ".py",
   "mimetype": "text/x-python",
   "name": "python",
   "nbconvert_exporter": "python",
   "pygments_lexer": "ipython3",
   "version": "3.11.5"
  }
 },
 "nbformat": 4,
 "nbformat_minor": 5
}
